{
  "nbformat": 4,
  "nbformat_minor": 0,
  "metadata": {
    "colab": {
      "provenance": [],
      "collapsed_sections": [],
      "include_colab_link": true
    },
    "kernelspec": {
      "name": "python3",
      "display_name": "Python 3"
    },
    "language_info": {
      "name": "python"
    }
  },
  "cells": [
    {
      "cell_type": "markdown",
      "metadata": {
        "id": "view-in-github",
        "colab_type": "text"
      },
      "source": [
        "<a href=\"https://colab.research.google.com/github/Eshashr/My-Projects/blob/main/DataMiningTechniquesProject2.ipynb\" target=\"_parent\"><img src=\"https://colab.research.google.com/assets/colab-badge.svg\" alt=\"Open In Colab\"/></a>"
      ]
    },
    {
      "cell_type": "markdown",
      "metadata": {
        "id": "yrJSVIcD2PQA"
      },
      "source": [
        "# Project Two\n",
        "\n",
        "This assignment uses a dataset created for it that we will explore with decision trees, random forest, k-means and association rules. The dataset has four numeric feature columns, A - D, and one binary class column, Z. \n",
        "\n",
        "Make a copy of this file and append your Hollins username to the end of the filename (in the upper left). When you are ready to submit share the file with the Google account I use for data science classes: hollinsdatascience@gmail.com."
      ]
    },
    {
      "cell_type": "code",
      "metadata": {
        "colab": {
          "base_uri": "https://localhost:8080/"
        },
        "id": "8CktEpuDyr8D",
        "outputId": "07eb7c0e-0956-49e2-9d74-22946be9f24d"
      },
      "source": [
        "from google.colab import drive\n",
        "drive.mount('/content/drive')"
      ],
      "execution_count": null,
      "outputs": [
        {
          "output_type": "stream",
          "name": "stdout",
          "text": [
            "Drive already mounted at /content/drive; to attempt to forcibly remount, call drive.mount(\"/content/drive\", force_remount=True).\n"
          ]
        }
      ]
    },
    {
      "cell_type": "code",
      "metadata": {
        "id": "1AmlIWadXdax"
      },
      "source": [
        "import numpy as np\n",
        "import pandas as pd\n",
        "import altair as alt\n",
        "import matplotlib.pyplot as plt\n",
        "\n",
        "from sklearn.model_selection import train_test_split\n",
        "from sklearn.model_selection import cross_validate\n",
        "from sklearn.tree import DecisionTreeClassifier\n",
        "from sklearn.tree import plot_tree\n",
        "from sklearn.ensemble import RandomForestClassifier\n",
        "from sklearn.cluster import KMeans\n",
        "\n",
        "from mlxtend.preprocessing import TransactionEncoder\n",
        "from mlxtend.frequent_patterns import apriori\n",
        "from mlxtend.frequent_patterns import association_rules"
      ],
      "execution_count": null,
      "outputs": []
    },
    {
      "cell_type": "code",
      "metadata": {
        "colab": {
          "base_uri": "https://localhost:8080/",
          "height": 206
        },
        "id": "51u2hljK06dy",
        "outputId": "33777064-b388-4f92-d7be-5f322dd22e7a"
      },
      "source": [
        "raw_df = pd.read_csv('/content/drive/My Drive/HDS/CMPS 335/Assignments/project_two_data.csv')\n",
        "raw_df.head()"
      ],
      "execution_count": null,
      "outputs": [
        {
          "output_type": "execute_result",
          "data": {
            "text/html": [
              "<div>\n",
              "<style scoped>\n",
              "    .dataframe tbody tr th:only-of-type {\n",
              "        vertical-align: middle;\n",
              "    }\n",
              "\n",
              "    .dataframe tbody tr th {\n",
              "        vertical-align: top;\n",
              "    }\n",
              "\n",
              "    .dataframe thead th {\n",
              "        text-align: right;\n",
              "    }\n",
              "</style>\n",
              "<table border=\"1\" class=\"dataframe\">\n",
              "  <thead>\n",
              "    <tr style=\"text-align: right;\">\n",
              "      <th></th>\n",
              "      <th>A</th>\n",
              "      <th>B</th>\n",
              "      <th>C</th>\n",
              "      <th>D</th>\n",
              "      <th>Z</th>\n",
              "    </tr>\n",
              "  </thead>\n",
              "  <tbody>\n",
              "    <tr>\n",
              "      <th>0</th>\n",
              "      <td>1.282312</td>\n",
              "      <td>2.051017</td>\n",
              "      <td>2.498082</td>\n",
              "      <td>0.397016</td>\n",
              "      <td>0</td>\n",
              "    </tr>\n",
              "    <tr>\n",
              "      <th>1</th>\n",
              "      <td>1.931789</td>\n",
              "      <td>1.692757</td>\n",
              "      <td>2.254481</td>\n",
              "      <td>1.997854</td>\n",
              "      <td>0</td>\n",
              "    </tr>\n",
              "    <tr>\n",
              "      <th>2</th>\n",
              "      <td>1.539587</td>\n",
              "      <td>3.192589</td>\n",
              "      <td>2.741863</td>\n",
              "      <td>2.328939</td>\n",
              "      <td>0</td>\n",
              "    </tr>\n",
              "    <tr>\n",
              "      <th>3</th>\n",
              "      <td>2.031125</td>\n",
              "      <td>1.659627</td>\n",
              "      <td>1.972386</td>\n",
              "      <td>1.949399</td>\n",
              "      <td>0</td>\n",
              "    </tr>\n",
              "    <tr>\n",
              "      <th>4</th>\n",
              "      <td>2.136543</td>\n",
              "      <td>3.802455</td>\n",
              "      <td>2.053983</td>\n",
              "      <td>1.923515</td>\n",
              "      <td>0</td>\n",
              "    </tr>\n",
              "  </tbody>\n",
              "</table>\n",
              "</div>"
            ],
            "text/plain": [
              "          A         B         C         D  Z\n",
              "0  1.282312  2.051017  2.498082  0.397016  0\n",
              "1  1.931789  1.692757  2.254481  1.997854  0\n",
              "2  1.539587  3.192589  2.741863  2.328939  0\n",
              "3  2.031125  1.659627  1.972386  1.949399  0\n",
              "4  2.136543  3.802455  2.053983  1.923515  0"
            ]
          },
          "metadata": {},
          "execution_count": 122
        }
      ]
    },
    {
      "cell_type": "code",
      "metadata": {
        "id": "TavXCnYq3zC8"
      },
      "source": [
        "# Create training and test sets using a fixed random state for reproducibility\n",
        "training_set, test_set = train_test_split(raw_df, test_size=0.20, random_state=8)\n",
        "\n",
        "# Use all of the features, excluding Outcome at the end\n",
        "training_features = training_set.iloc[:,:-1]\n",
        "# Targets are at the end\n",
        "training_targets = training_set.iloc[:,-1]\n",
        "\n",
        "# Pull out the same features and targets from test set\n",
        "testing_features = test_set.iloc[:,:-1]\n",
        "testing_targets = test_set.iloc[:,-1]"
      ],
      "execution_count": null,
      "outputs": []
    },
    {
      "cell_type": "markdown",
      "metadata": {
        "id": "NM4Eu1l6jBD1"
      },
      "source": [
        "## Part One\n",
        "\n",
        "1) Train a decision tree classifier, with ccp_apha=0.01 (for post-pruning), on the training data and evaluate it using the score method on the testing data. The score method gives us the accuracy quickly, a reminder of the code is below. Since we are not exploring different hyperparameters you do not need to use cross-validation.\n",
        "\n",
        "\n",
        "\n",
        "```\n",
        "dt_model.score(testing_features, testing_targets)\n",
        "```\n",
        "\n"
      ]
    },
    {
      "cell_type": "code",
      "metadata": {
        "id": "d-g-R6R34MFh",
        "colab": {
          "base_uri": "https://localhost:8080/"
        },
        "outputId": "3e662edb-e148-43b6-c015-6b69ee991034"
      },
      "source": [
        "dt_model = DecisionTreeClassifier(ccp_alpha=0.01)\n",
        "dt_model.fit(training_features, training_targets)\n",
        "dt_model.score(testing_features, testing_targets) "
      ],
      "execution_count": null,
      "outputs": [
        {
          "output_type": "execute_result",
          "data": {
            "text/plain": [
              "0.8958333333333334"
            ]
          },
          "metadata": {},
          "execution_count": 124
        }
      ]
    },
    {
      "cell_type": "markdown",
      "metadata": {
        "id": "1HNTSL_JprCM"
      },
      "source": [
        "2) Train a random forest classifier, with ccp_apha=0.01, on the on the training data and evaluate it using the score method on the testing data. Again, no need to use cross-validation here either.\n",
        "\n",
        "How does the random forest model compare to the single decision tree?"
      ]
    },
    {
      "cell_type": "code",
      "metadata": {
        "id": "id44kZOy4OOO",
        "colab": {
          "base_uri": "https://localhost:8080/"
        },
        "outputId": "d1b43d3f-f7fe-4328-98c7-9872fcd2b337"
      },
      "source": [
        "rf_model = RandomForestClassifier(ccp_alpha=0.01)\n",
        "rf_model.fit(training_features, training_targets)\n",
        "rf_model.score(testing_features, testing_targets)"
      ],
      "execution_count": null,
      "outputs": [
        {
          "output_type": "execute_result",
          "data": {
            "text/plain": [
              "0.9375"
            ]
          },
          "metadata": {},
          "execution_count": 125
        }
      ]
    },
    {
      "cell_type": "markdown",
      "metadata": {
        "id": "CsUpY2RtUrsg"
      },
      "source": [
        "Random Forest seems to be more accurate."
      ]
    },
    {
      "cell_type": "markdown",
      "metadata": {
        "id": "U3cz3aq6qN_4"
      },
      "source": [
        "## Part Two\n",
        "\n",
        "In this part we are going to use k-means to cluster on some of the dimensions and reduce our total features from four to two.\n",
        "\n",
        "1) Create a scatter plot of B vs A, meaning B on the y-axis and A on the x-axis, with the points colored by our class column, Z. If you are using Altair, use color='Z:N' to intepret the type of the Z column as nominal in order to get one color for each class.\n",
        "\n",
        "Looking at the scatterplot what might be a good number of clusters?"
      ]
    },
    {
      "cell_type": "code",
      "metadata": {
        "id": "ablpWWXstNo8",
        "colab": {
          "base_uri": "https://localhost:8080/",
          "height": 423
        },
        "outputId": "bb3c5a1c-475b-497e-9de1-886ed31e4730"
      },
      "source": [
        "mycols = ['A','B','Z']\n",
        "raw_df[mycols]"
      ],
      "execution_count": null,
      "outputs": [
        {
          "output_type": "execute_result",
          "data": {
            "text/html": [
              "<div>\n",
              "<style scoped>\n",
              "    .dataframe tbody tr th:only-of-type {\n",
              "        vertical-align: middle;\n",
              "    }\n",
              "\n",
              "    .dataframe tbody tr th {\n",
              "        vertical-align: top;\n",
              "    }\n",
              "\n",
              "    .dataframe thead th {\n",
              "        text-align: right;\n",
              "    }\n",
              "</style>\n",
              "<table border=\"1\" class=\"dataframe\">\n",
              "  <thead>\n",
              "    <tr style=\"text-align: right;\">\n",
              "      <th></th>\n",
              "      <th>A</th>\n",
              "      <th>B</th>\n",
              "      <th>Z</th>\n",
              "    </tr>\n",
              "  </thead>\n",
              "  <tbody>\n",
              "    <tr>\n",
              "      <th>0</th>\n",
              "      <td>1.282312</td>\n",
              "      <td>2.051017</td>\n",
              "      <td>0</td>\n",
              "    </tr>\n",
              "    <tr>\n",
              "      <th>1</th>\n",
              "      <td>1.931789</td>\n",
              "      <td>1.692757</td>\n",
              "      <td>0</td>\n",
              "    </tr>\n",
              "    <tr>\n",
              "      <th>2</th>\n",
              "      <td>1.539587</td>\n",
              "      <td>3.192589</td>\n",
              "      <td>0</td>\n",
              "    </tr>\n",
              "    <tr>\n",
              "      <th>3</th>\n",
              "      <td>2.031125</td>\n",
              "      <td>1.659627</td>\n",
              "      <td>0</td>\n",
              "    </tr>\n",
              "    <tr>\n",
              "      <th>4</th>\n",
              "      <td>2.136543</td>\n",
              "      <td>3.802455</td>\n",
              "      <td>0</td>\n",
              "    </tr>\n",
              "    <tr>\n",
              "      <th>...</th>\n",
              "      <td>...</td>\n",
              "      <td>...</td>\n",
              "      <td>...</td>\n",
              "    </tr>\n",
              "    <tr>\n",
              "      <th>235</th>\n",
              "      <td>-1.104000</td>\n",
              "      <td>0.026262</td>\n",
              "      <td>1</td>\n",
              "    </tr>\n",
              "    <tr>\n",
              "      <th>236</th>\n",
              "      <td>-2.252266</td>\n",
              "      <td>-1.072542</td>\n",
              "      <td>1</td>\n",
              "    </tr>\n",
              "    <tr>\n",
              "      <th>237</th>\n",
              "      <td>-0.455877</td>\n",
              "      <td>-1.398331</td>\n",
              "      <td>1</td>\n",
              "    </tr>\n",
              "    <tr>\n",
              "      <th>238</th>\n",
              "      <td>-2.004211</td>\n",
              "      <td>-0.663514</td>\n",
              "      <td>1</td>\n",
              "    </tr>\n",
              "    <tr>\n",
              "      <th>239</th>\n",
              "      <td>-1.249207</td>\n",
              "      <td>-2.100638</td>\n",
              "      <td>1</td>\n",
              "    </tr>\n",
              "  </tbody>\n",
              "</table>\n",
              "<p>240 rows × 3 columns</p>\n",
              "</div>"
            ],
            "text/plain": [
              "            A         B  Z\n",
              "0    1.282312  2.051017  0\n",
              "1    1.931789  1.692757  0\n",
              "2    1.539587  3.192589  0\n",
              "3    2.031125  1.659627  0\n",
              "4    2.136543  3.802455  0\n",
              "..        ...       ... ..\n",
              "235 -1.104000  0.026262  1\n",
              "236 -2.252266 -1.072542  1\n",
              "237 -0.455877 -1.398331  1\n",
              "238 -2.004211 -0.663514  1\n",
              "239 -1.249207 -2.100638  1\n",
              "\n",
              "[240 rows x 3 columns]"
            ]
          },
          "metadata": {},
          "execution_count": 126
        }
      ]
    },
    {
      "cell_type": "code",
      "metadata": {
        "colab": {
          "base_uri": "https://localhost:8080/",
          "height": 369
        },
        "id": "7NGLKix_zJ52",
        "outputId": "66874b47-4bb9-430f-e2cc-f1be04ddd580"
      },
      "source": [
        "alt.Chart(raw_df[mycols]).mark_point().encode(\n",
        "    alt.X('A'),\n",
        "    alt.Y('B'),\n",
        "    color = \"Z:N\")"
      ],
      "execution_count": null,
      "outputs": [
        {
          "output_type": "execute_result",
          "data": {
            "text/plain": [
              "alt.Chart(...)"
            ],
            "text/html": [
              "\n",
              "<div id=\"altair-viz-3b1b6e0aac644260bbcd09a67205ad77\"></div>\n",
              "<script type=\"text/javascript\">\n",
              "  (function(spec, embedOpt){\n",
              "    let outputDiv = document.currentScript.previousElementSibling;\n",
              "    if (outputDiv.id !== \"altair-viz-3b1b6e0aac644260bbcd09a67205ad77\") {\n",
              "      outputDiv = document.getElementById(\"altair-viz-3b1b6e0aac644260bbcd09a67205ad77\");\n",
              "    }\n",
              "    const paths = {\n",
              "      \"vega\": \"https://cdn.jsdelivr.net/npm//vega@5?noext\",\n",
              "      \"vega-lib\": \"https://cdn.jsdelivr.net/npm//vega-lib?noext\",\n",
              "      \"vega-lite\": \"https://cdn.jsdelivr.net/npm//vega-lite@4.8.1?noext\",\n",
              "      \"vega-embed\": \"https://cdn.jsdelivr.net/npm//vega-embed@6?noext\",\n",
              "    };\n",
              "\n",
              "    function loadScript(lib) {\n",
              "      return new Promise(function(resolve, reject) {\n",
              "        var s = document.createElement('script');\n",
              "        s.src = paths[lib];\n",
              "        s.async = true;\n",
              "        s.onload = () => resolve(paths[lib]);\n",
              "        s.onerror = () => reject(`Error loading script: ${paths[lib]}`);\n",
              "        document.getElementsByTagName(\"head\")[0].appendChild(s);\n",
              "      });\n",
              "    }\n",
              "\n",
              "    function showError(err) {\n",
              "      outputDiv.innerHTML = `<div class=\"error\" style=\"color:red;\">${err}</div>`;\n",
              "      throw err;\n",
              "    }\n",
              "\n",
              "    function displayChart(vegaEmbed) {\n",
              "      vegaEmbed(outputDiv, spec, embedOpt)\n",
              "        .catch(err => showError(`Javascript Error: ${err.message}<br>This usually means there's a typo in your chart specification. See the javascript console for the full traceback.`));\n",
              "    }\n",
              "\n",
              "    if(typeof define === \"function\" && define.amd) {\n",
              "      requirejs.config({paths});\n",
              "      require([\"vega-embed\"], displayChart, err => showError(`Error loading script: ${err.message}`));\n",
              "    } else if (typeof vegaEmbed === \"function\") {\n",
              "      displayChart(vegaEmbed);\n",
              "    } else {\n",
              "      loadScript(\"vega\")\n",
              "        .then(() => loadScript(\"vega-lite\"))\n",
              "        .then(() => loadScript(\"vega-embed\"))\n",
              "        .catch(showError)\n",
              "        .then(() => displayChart(vegaEmbed));\n",
              "    }\n",
              "  })({\"config\": {\"view\": {\"continuousWidth\": 400, \"continuousHeight\": 300}}, \"data\": {\"name\": \"data-847115548ea15baf2f1c12616929033a\"}, \"mark\": \"point\", \"encoding\": {\"color\": {\"type\": \"nominal\", \"field\": \"Z\"}, \"x\": {\"type\": \"quantitative\", \"field\": \"A\"}, \"y\": {\"type\": \"quantitative\", \"field\": \"B\"}}, \"$schema\": \"https://vega.github.io/schema/vega-lite/v4.8.1.json\", \"datasets\": {\"data-847115548ea15baf2f1c12616929033a\": [{\"A\": 1.2823122185401257, \"B\": 2.051016753415805, \"Z\": 0}, {\"A\": 1.9317891361618265, \"B\": 1.6927570217474408, \"Z\": 0}, {\"A\": 1.5395872701107245, \"B\": 3.192588736632998, \"Z\": 0}, {\"A\": 2.031124696671403, \"B\": 1.6596270617460571, \"Z\": 0}, {\"A\": 2.1365428896281, \"B\": 3.8024550755376607, \"Z\": 0}, {\"A\": 1.1798704033435319, \"B\": 1.6622587761739211, \"Z\": 0}, {\"A\": 2.2986131202527096, \"B\": 0.6171937334857096, \"Z\": 0}, {\"A\": 2.5967283383476074, \"B\": 2.0359648106039767, \"Z\": 0}, {\"A\": 2.7205965226670115, \"B\": 2.278452725180914, \"Z\": 0}, {\"A\": 1.9489797940584699, \"B\": 4.2051884252839535, \"Z\": 0}, {\"A\": 0.6571879329022938, \"B\": 2.875262790386812, \"Z\": 0}, {\"A\": 2.909858579813372, \"B\": 1.162344201899263, \"Z\": 0}, {\"A\": 0.8181909565404013, \"B\": 0.7624144344902166, \"Z\": 0}, {\"A\": 3.4721742541995497, \"B\": 1.7760141936460618, \"Z\": 0}, {\"A\": 2.9826451940676733, \"B\": 1.7946011190620954, \"Z\": 0}, {\"A\": 2.302495644986841, \"B\": 2.6146512259737187, \"Z\": 0}, {\"A\": 2.8473819039807293, \"B\": 2.138892998696546, \"Z\": 0}, {\"A\": 2.159086008950452, \"B\": 1.3307994759042234, \"Z\": 0}, {\"A\": 4.026104275397216, \"B\": 2.7097471715482038, \"Z\": 0}, {\"A\": 1.9498161532392448, \"B\": 0.7116244696543761, \"Z\": 0}, {\"A\": 0.8388449349003524, \"B\": 1.5242901477187665, \"Z\": 0}, {\"A\": 2.7612101352063965, \"B\": 3.031803894397478, \"Z\": 0}, {\"A\": 2.6045318527444343, \"B\": 1.3747597001021044, \"Z\": 0}, {\"A\": 1.2144254186376575, \"B\": 1.1962463926078624, \"Z\": 0}, {\"A\": 1.8606979260298264, \"B\": 2.5830755873633384, \"Z\": 0}, {\"A\": 2.237069020519804, \"B\": 3.5612150534431763, \"Z\": 0}, {\"A\": 1.6629828402570748, \"B\": 2.3673381610734827, \"Z\": 0}, {\"A\": 2.337857161469591, \"B\": 1.5643090188258482, \"Z\": 0}, {\"A\": 1.8396135330565293, \"B\": 1.0846548705003267, \"Z\": 0}, {\"A\": 0.7843044774209773, \"B\": 2.7811342765781033, \"Z\": 0}, {\"A\": 1.5177767663321169, \"B\": 0.30651621634963977, \"Z\": 0}, {\"A\": 2.994264114820965, \"B\": 2.298030373781601, \"Z\": 0}, {\"A\": 0.8298750041135188, \"B\": 2.490553338189741, \"Z\": 0}, {\"A\": 2.141355730804724, \"B\": 2.574436886157085, \"Z\": 0}, {\"A\": 3.6318049521107616, \"B\": 2.5234936674245776, \"Z\": 0}, {\"A\": 0.6843346918509303, \"B\": 2.717581642375269, \"Z\": 0}, {\"A\": 4.199493831510573, \"B\": 3.7717535421865502, \"Z\": 0}, {\"A\": 1.3010583958099682, \"B\": 1.758232330204958, \"Z\": 0}, {\"A\": -0.0137326197600931, \"B\": 0.893287929345802, \"Z\": 0}, {\"A\": 1.86263200563023, \"B\": 2.5651917945708456, \"Z\": 0}, {\"A\": 0.9118321728331752, \"B\": 1.1564204787332062, \"Z\": 0}, {\"A\": 1.1165334312975097, \"B\": 2.6048459024612307, \"Z\": 0}, {\"A\": 1.7813837542549267, \"B\": 2.7895237297827853, \"Z\": 0}, {\"A\": 2.063079583505089, \"B\": 1.6298863270531998, \"Z\": 0}, {\"A\": 1.7008548571156925, \"B\": 1.7474818671284789, \"Z\": 0}, {\"A\": 2.152090751821381, \"B\": 3.287060809787484, \"Z\": 0}, {\"A\": 1.5561699400407143, \"B\": 2.2364551032369206, \"Z\": 0}, {\"A\": 1.3845821267927936, \"B\": 1.8396145258468768, \"Z\": 0}, {\"A\": 2.268830295639308, \"B\": -0.09791294743681922, \"Z\": 0}, {\"A\": 2.781780439092474, \"B\": 1.1818754947560364, \"Z\": 0}, {\"A\": 2.172563388299386, \"B\": 4.310578486788413, \"Z\": 0}, {\"A\": 2.7506375561487393, \"B\": 1.1051262778092394, \"Z\": 0}, {\"A\": 0.3012047558767239, \"B\": 1.9957561988975367, \"Z\": 0}, {\"A\": 0.23629128633338725, \"B\": 3.4692146729683677, \"Z\": 0}, {\"A\": 1.83786702618636, \"B\": 1.89609443527244, \"Z\": 0}, {\"A\": 2.3361909412929918, \"B\": 2.0740648742511434, \"Z\": 0}, {\"A\": 3.118560898753852, \"B\": 2.3972048329607745, \"Z\": 0}, {\"A\": 2.217054341048479, \"B\": 2.0898186196728146, \"Z\": 0}, {\"A\": 2.080708568873341, \"B\": 2.355039331288802, \"Z\": 0}, {\"A\": 3.1015845655951693, \"B\": 1.573380286283907, \"Z\": 0}, {\"A\": 2.5771508170139104, \"B\": 1.6572196317595165, \"Z\": 0}, {\"A\": 1.7282562917776465, \"B\": 0.445097559496958, \"Z\": 1}, {\"A\": 3.0939228528850413, \"B\": 2.109406208638964, \"Z\": 0}, {\"A\": 1.92772948315842, \"B\": 0.3412337085646677, \"Z\": 0}, {\"A\": 1.5503684703204532, \"B\": 1.7936742865185031, \"Z\": 0}, {\"A\": 1.8102616152425703, \"B\": 2.1327561029509154, \"Z\": 0}, {\"A\": 0.7001555596877123, \"B\": 3.450780768139613, \"Z\": 0}, {\"A\": 2.7299048054524784, \"B\": 1.009402505375734, \"Z\": 0}, {\"A\": 3.0511069327411886, \"B\": 2.366343363877829, \"Z\": 0}, {\"A\": 2.4019336603063928, \"B\": 1.8385194135640277, \"Z\": 0}, {\"A\": 2.5994468886887754, \"B\": 1.9407281673594, \"Z\": 0}, {\"A\": 2.0702520648556755, \"B\": 1.5303857910156775, \"Z\": 0}, {\"A\": 0.488074581629554, \"B\": 1.376893434362862, \"Z\": 0}, {\"A\": -0.6447199048738095, \"B\": 3.5056297342483584, \"Z\": 0}, {\"A\": 3.1628493402058497, \"B\": 1.3548007176021644, \"Z\": 0}, {\"A\": 2.3622633473316195, \"B\": 1.329238232311038, \"Z\": 0}, {\"A\": 2.7497606339114244, \"B\": 1.5314899661827368, \"Z\": 0}, {\"A\": 2.5995203016041457, \"B\": 4.158569109699645, \"Z\": 0}, {\"A\": 2.3710567224630106, \"B\": 1.373873504420799, \"Z\": 0}, {\"A\": 1.5383609024133391, \"B\": 1.5536630622991432, \"Z\": 1}, {\"A\": -0.11990966118282688, \"B\": -0.6467098783403017, \"Z\": 1}, {\"A\": 0.07266240643921268, \"B\": -0.7375056553360853, \"Z\": 1}, {\"A\": 0.8190668316818747, \"B\": 0.31167579304065074, \"Z\": 1}, {\"A\": 0.35388686925362844, \"B\": 0.425279644688889, \"Z\": 1}, {\"A\": -0.017000294349965674, \"B\": 0.2522853301845802, \"Z\": 1}, {\"A\": 0.5084961151486166, \"B\": 0.4490081494586333, \"Z\": 1}, {\"A\": 0.32269145904098145, \"B\": 0.0630849001288563, \"Z\": 1}, {\"A\": -0.24652990875502764, \"B\": 0.6031126890066062, \"Z\": 1}, {\"A\": 0.2870932047344052, \"B\": 0.17645637558100075, \"Z\": 1}, {\"A\": -0.3505498316499093, \"B\": 0.2617689725191908, \"Z\": 1}, {\"A\": 0.10071596036809637, \"B\": 0.3985169848304588, \"Z\": 1}, {\"A\": -0.41168562873679576, \"B\": 0.2111123020485587, \"Z\": 1}, {\"A\": -0.26511734655651825, \"B\": 0.23114644292111325, \"Z\": 1}, {\"A\": -0.03539969350724896, \"B\": 0.023502417868273718, \"Z\": 1}, {\"A\": 0.2711908991551764, \"B\": -0.4705362340790926, \"Z\": 1}, {\"A\": -0.033427566759371745, \"B\": 0.8264067605038528, \"Z\": 1}, {\"A\": -0.1817115995308916, \"B\": 0.0782376350754649, \"Z\": 1}, {\"A\": 0.18518531949484468, \"B\": -0.7019954047723176, \"Z\": 1}, {\"A\": 0.06545892128924792, \"B\": -1.3019773470425593, \"Z\": 1}, {\"A\": 0.010885928137374786, \"B\": -0.8938152125346678, \"Z\": 1}, {\"A\": -0.17735312318228, \"B\": 0.015001796628951031, \"Z\": 1}, {\"A\": -0.0012398136290247743, \"B\": -0.4639955725399528, \"Z\": 1}, {\"A\": 0.010914762960746102, \"B\": -0.0473233350540811, \"Z\": 1}, {\"A\": -0.21455593466042835, \"B\": 0.3362133057530497, \"Z\": 1}, {\"A\": 0.10071355776688487, \"B\": -0.007756138331186013, \"Z\": 1}, {\"A\": -0.3420660942817654, \"B\": 0.1817648110755828, \"Z\": 1}, {\"A\": 1.0294337065655057, \"B\": -0.6857297564675225, \"Z\": 1}, {\"A\": -1.134293178502842, \"B\": -0.1090843842335888, \"Z\": 1}, {\"A\": 0.4474072323083057, \"B\": -0.02493804130305906, \"Z\": 1}, {\"A\": 0.11986381022741155, \"B\": -0.4056402339777369, \"Z\": 1}, {\"A\": -0.4703834874648362, \"B\": -0.9479080629981368, \"Z\": 1}, {\"A\": 0.3743562931103425, \"B\": 0.706611683230782, \"Z\": 1}, {\"A\": 0.06995898128343914, \"B\": 0.5681105442211326, \"Z\": 1}, {\"A\": 0.0561062496989864, \"B\": -0.4621794632847417, \"Z\": 1}, {\"A\": 0.12790774606514907, \"B\": 0.2979622690050417, \"Z\": 1}, {\"A\": -0.02744592707267272, \"B\": 0.5917068662761729, \"Z\": 1}, {\"A\": -0.10075041208490583, \"B\": 0.7433411893012828, \"Z\": 1}, {\"A\": 0.029105522854094505, \"B\": -0.7968979161453061, \"Z\": 1}, {\"A\": -0.3992497894572668, \"B\": 0.5225238028092086, \"Z\": 1}, {\"A\": 0.26612789124557223, \"B\": 0.7419494806861795, \"Z\": 1}, {\"A\": -0.00020398274832874967, \"B\": -0.3411557639832495, \"Z\": 0}, {\"A\": 0.11726147184676824, \"B\": -0.1916318639739961, \"Z\": 0}, {\"A\": 0.7842580734839423, \"B\": 0.2799697079275253, \"Z\": 0}, {\"A\": -0.08956100088932305, \"B\": -0.7473395991630014, \"Z\": 0}, {\"A\": -0.6360008310896131, \"B\": -0.1010432177735068, \"Z\": 0}, {\"A\": 1.1660400457360034, \"B\": 1.0984008489491064, \"Z\": 0}, {\"A\": 0.10790196797237234, \"B\": 0.05672341148826567, \"Z\": 0}, {\"A\": 0.5436925990680682, \"B\": -0.276287632724058, \"Z\": 0}, {\"A\": 0.5816835494816789, \"B\": 0.23455582857818735, \"Z\": 0}, {\"A\": -0.05707246998499666, \"B\": -0.5186953526845878, \"Z\": 0}, {\"A\": 0.12199137202630245, \"B\": -0.28470409787160555, \"Z\": 0}, {\"A\": 0.03512536401697368, \"B\": 0.6226254649489122, \"Z\": 0}, {\"A\": -0.7754116129195383, \"B\": -0.16973976805716728, \"Z\": 0}, {\"A\": 0.03975222869165695, \"B\": -0.3639064460915785, \"Z\": 0}, {\"A\": -0.371053842089442, \"B\": -0.8797240317978042, \"Z\": 1}, {\"A\": -0.6576228818868316, \"B\": 0.39964566474573204, \"Z\": 0}, {\"A\": 1.0273213797955834, \"B\": 0.5511421195462305, \"Z\": 0}, {\"A\": 0.11828628290012855, \"B\": -0.207479488597808, \"Z\": 0}, {\"A\": -0.8393319563425007, \"B\": 0.16432172923020782, \"Z\": 0}, {\"A\": -0.6001890659361494, \"B\": 0.5256398424747675, \"Z\": 0}, {\"A\": -0.3684198470361239, \"B\": -0.7262106767084479, \"Z\": 0}, {\"A\": -0.17697183883213596, \"B\": -0.15751387660959668, \"Z\": 0}, {\"A\": -0.0072436196369389735, \"B\": -0.30655326123823656, \"Z\": 0}, {\"A\": 0.3109262088729189, \"B\": -0.49092910789539895, \"Z\": 0}, {\"A\": -0.2877677071755925, \"B\": 1.2946719875694106, \"Z\": 0}, {\"A\": 1.0355061966056236, \"B\": -0.4978233231747617, \"Z\": 0}, {\"A\": 0.011190127737704824, \"B\": 0.6774770247848962, \"Z\": 0}, {\"A\": 1.138797143333665, \"B\": -0.5212313377303919, \"Z\": 0}, {\"A\": -0.2974483268825405, \"B\": 0.15730670704924807, \"Z\": 0}, {\"A\": -0.7271913083929349, \"B\": -0.7289416677395721, \"Z\": 1}, {\"A\": -0.11398082991311753, \"B\": 0.1874270571965347, \"Z\": 0}, {\"A\": 0.22388054139506555, \"B\": -0.5559623749598362, \"Z\": 0}, {\"A\": 0.2307905511896179, \"B\": -0.3921635436267116, \"Z\": 0}, {\"A\": -0.4439233567266835, \"B\": -0.131371617572951, \"Z\": 0}, {\"A\": 0.30830818740395266, \"B\": -0.24646688755335106, \"Z\": 0}, {\"A\": -0.05027089032193957, \"B\": -0.9329418103957164, \"Z\": 0}, {\"A\": 0.9252567152470866, \"B\": -0.09153016615490447, \"Z\": 0}, {\"A\": 0.998812067250504, \"B\": -0.4151554332952017, \"Z\": 0}, {\"A\": -0.4240592292593369, \"B\": 0.12601163817667327, \"Z\": 0}, {\"A\": 0.2864539821259739, \"B\": -0.21269754331013216, \"Z\": 0}, {\"A\": -2.2025207141016616, \"B\": -2.1883519045185893, \"Z\": 1}, {\"A\": -2.3961368958475457, \"B\": -3.770888348894968, \"Z\": 1}, {\"A\": -3.652345761609205, \"B\": -2.7376003979247803, \"Z\": 1}, {\"A\": -2.5148901182453645, \"B\": -2.7893492116221643, \"Z\": 1}, {\"A\": 0.0416403816201214, \"B\": -0.9960043265773072, \"Z\": 0}, {\"A\": -1.4000301183054005, \"B\": -2.1297298593915084, \"Z\": 1}, {\"A\": -0.9034676810233562, \"B\": -1.1903357261977918, \"Z\": 1}, {\"A\": -3.387745527185201, \"B\": -4.361009858112626, \"Z\": 1}, {\"A\": -0.7934058884057746, \"B\": -2.639454597037148, \"Z\": 1}, {\"A\": -2.0829048289263574, \"B\": -0.9950469318757602, \"Z\": 0}, {\"A\": -2.7980548088113077, \"B\": -0.5834885257553353, \"Z\": 1}, {\"A\": -1.9857964945141715, \"B\": -2.2393557131844033, \"Z\": 1}, {\"A\": -2.9360340058526697, \"B\": -2.8472970566754285, \"Z\": 1}, {\"A\": -2.7498666581860647, \"B\": -3.4811207291417414, \"Z\": 1}, {\"A\": -1.4907291157324525, \"B\": -1.3156688066030078, \"Z\": 0}, {\"A\": -2.3693579995682215, \"B\": -4.5306380169926905, \"Z\": 1}, {\"A\": -1.6334550350685582, \"B\": -2.3580050472249963, \"Z\": 1}, {\"A\": -3.4890744028973915, \"B\": -1.9603467640221108, \"Z\": 1}, {\"A\": -1.8901121522777808, \"B\": -0.6332075055019724, \"Z\": 1}, {\"A\": -4.370430416226672, \"B\": -1.8846200746384003, \"Z\": 1}, {\"A\": 0.13689092763274147, \"B\": -2.0669331539038702, \"Z\": 1}, {\"A\": -1.3029381820634978, \"B\": -2.4257101526247755, \"Z\": 1}, {\"A\": -1.8093515099577924, \"B\": -3.26257706962007, \"Z\": 1}, {\"A\": -3.2409334115067643, \"B\": -1.7002910815853831, \"Z\": 1}, {\"A\": -2.8424264784217854, \"B\": -1.6511437099892663, \"Z\": 1}, {\"A\": -2.6690748209951662, \"B\": -2.006356694899869, \"Z\": 1}, {\"A\": -1.3949562020620665, \"B\": -3.556724512317679, \"Z\": 1}, {\"A\": -4.7303727874829775, \"B\": -1.3287037741984318, \"Z\": 1}, {\"A\": -2.327649967003984, \"B\": -2.3190463084825716, \"Z\": 1}, {\"A\": -2.332735314342482, \"B\": -1.6782744317165037, \"Z\": 1}, {\"A\": -1.9683663591775529, \"B\": -2.5513439109116582, \"Z\": 1}, {\"A\": -2.007520322295754, \"B\": -4.807121667281693, \"Z\": 1}, {\"A\": -1.4218875710992531, \"B\": -2.9900416275494317, \"Z\": 1}, {\"A\": -3.0581016104270287, \"B\": -3.1526780266665826, \"Z\": 1}, {\"A\": -2.584907722741498, \"B\": -2.7582815800171865, \"Z\": 1}, {\"A\": -2.543492607350397, \"B\": -3.355191843788159, \"Z\": 1}, {\"A\": -3.1186892990403767, \"B\": -1.6404804698508493, \"Z\": 1}, {\"A\": -0.5922632781002135, \"B\": -3.1303963530169616, \"Z\": 1}, {\"A\": -2.3682266248301787, \"B\": -1.3568755746057506, \"Z\": 1}, {\"A\": -1.1114243863668969, \"B\": -1.7700046054812708, \"Z\": 1}, {\"A\": -3.2147903069434105, \"B\": -1.8519690834670008, \"Z\": 1}, {\"A\": -3.4382182013533913, \"B\": -1.1674501621016535, \"Z\": 1}, {\"A\": -1.7996180855709154, \"B\": -3.843910668539469, \"Z\": 1}, {\"A\": -1.6334666666991886, \"B\": -1.160710769119127, \"Z\": 1}, {\"A\": -3.0471894515144538, \"B\": -1.8971150983142488, \"Z\": 1}, {\"A\": -1.97107052522221, \"B\": -0.26224073959487315, \"Z\": 1}, {\"A\": -3.9505997015211434, \"B\": -1.3743507864599236, \"Z\": 1}, {\"A\": -2.101012562045898, \"B\": -0.7256005530168563, \"Z\": 1}, {\"A\": -2.614778052667705, \"B\": -2.2903643494390953, \"Z\": 1}, {\"A\": -1.6438924045027268, \"B\": -1.4130346054747824, \"Z\": 1}, {\"A\": -1.941592887657064, \"B\": -2.3883314889640013, \"Z\": 1}, {\"A\": -3.2226063457987344, \"B\": -1.0239733968908094, \"Z\": 1}, {\"A\": -2.8836142330621515, \"B\": -3.8855946807327273, \"Z\": 1}, {\"A\": -1.349141358056373, \"B\": -0.04421204282296665, \"Z\": 1}, {\"A\": -1.4295759688951435, \"B\": -2.526257357934937, \"Z\": 1}, {\"A\": -2.119116647508132, \"B\": -2.9090323232149164, \"Z\": 1}, {\"A\": 0.045300165245480084, \"B\": -2.9006375094239445, \"Z\": 1}, {\"A\": -1.0503534904132672, \"B\": -0.3644536556607017, \"Z\": 1}, {\"A\": -0.8867516133601887, \"B\": -2.0556935827316427, \"Z\": 1}, {\"A\": -2.308124675365011, \"B\": -1.6657996162638595, \"Z\": 1}, {\"A\": -2.9245031415202902, \"B\": -1.2697550617966733, \"Z\": 1}, {\"A\": -1.4297215063953748, \"B\": -2.6252469861338934, \"Z\": 1}, {\"A\": -2.5171687725359915, \"B\": -2.5745601676607497, \"Z\": 1}, {\"A\": -0.8780532533069128, \"B\": -3.203680367800197, \"Z\": 1}, {\"A\": -2.965799266614197, \"B\": -1.3182154561875716, \"Z\": 1}, {\"A\": -0.9678547501842883, \"B\": -0.7671842120439687, \"Z\": 1}, {\"A\": -1.4586484503392878, \"B\": -1.966801481625461, \"Z\": 1}, {\"A\": -2.8451901645136917, \"B\": -2.6936574520500787, \"Z\": 1}, {\"A\": -2.245903555155904, \"B\": -1.2939321381947733, \"Z\": 1}, {\"A\": -1.3455372509448216, \"B\": -1.3712996353504838, \"Z\": 1}, {\"A\": -3.282166619715017, \"B\": -1.5822563619670915, \"Z\": 1}, {\"A\": -2.9221652161568463, \"B\": -0.9391742116074576, \"Z\": 1}, {\"A\": -0.6884748144227691, \"B\": -1.0856780217920419, \"Z\": 1}, {\"A\": -2.1905303666550293, \"B\": -2.5343679988603744, \"Z\": 1}, {\"A\": -2.7770447169485286, \"B\": -2.2320420127710605, \"Z\": 1}, {\"A\": -1.1040001188063937, \"B\": 0.02626238951621129, \"Z\": 1}, {\"A\": -2.2522664863217607, \"B\": -1.0725424215890458, \"Z\": 1}, {\"A\": -0.4558772002583438, \"B\": -1.3983309823285448, \"Z\": 1}, {\"A\": -2.004210945544373, \"B\": -0.6635136716449295, \"Z\": 1}, {\"A\": -1.2492074214844755, \"B\": -2.1006378562607098, \"Z\": 1}]}}, {\"mode\": \"vega-lite\"});\n",
              "</script>"
            ]
          },
          "metadata": {},
          "execution_count": 127
        }
      ]
    },
    {
      "cell_type": "markdown",
      "metadata": {
        "id": "tun91WmMqsYi"
      },
      "source": [
        "2) Now we are going to create an elbow plot of the inertias across different values of k for clustering on the A and B columns. Calculate the inertia for values of k 1-7. Then create a line plot (ideally also with points) of the inertia vs k. See code below for running k-means with k set to one, I set the random state for purposes of reproducibility on the assignment.\n",
        "\n",
        "\n",
        "\n",
        "```\n",
        "km1 = KMeans(n_clusters=1, random_state=0).fit(raw_df.iloc[:,0:2])\n",
        "```\n",
        "\n"
      ]
    },
    {
      "cell_type": "code",
      "metadata": {
        "id": "LMs5kOf758VK",
        "colab": {
          "base_uri": "https://localhost:8080/",
          "height": 269
        },
        "outputId": "69c74306-7fe5-4dea-adfb-d58f6f4cf07d"
      },
      "source": [
        "km1 = KMeans(n_clusters = 1, random_state = 0).fit(raw_df.iloc[:,0:2])\n",
        "km2 = KMeans(n_clusters = 2, random_state = 0).fit(raw_df.iloc[:,0:2])\n",
        "km3 = KMeans(n_clusters = 3, random_state = 0).fit(raw_df.iloc[:,0:2])\n",
        "km4 = KMeans(n_clusters = 4, random_state = 0).fit(raw_df.iloc[:,0:2])\n",
        "km5 = KMeans(n_clusters = 5, random_state = 0).fit(raw_df.iloc[:,0:2])\n",
        "km6 = KMeans(n_clusters = 6, random_state = 0).fit(raw_df.iloc[:,0:2])\n",
        "km7 = KMeans(n_clusters = 7, random_state = 0).fit(raw_df.iloc[:,0:2])\n",
        "\n",
        "k_values = [1,2,3,4,5,6,7]\n",
        "inertia = [km1.inertia_, km2.inertia_, km3.inertia_, km4.inertia_, km5.inertia_, km6.inertia_, km7.inertia_]\n",
        "result_df = pd.DataFrame({'k':k_values, 'Inertia':inertia})\n",
        "result_df"
      ],
      "execution_count": null,
      "outputs": [
        {
          "output_type": "execute_result",
          "data": {
            "text/html": [
              "<div>\n",
              "<style scoped>\n",
              "    .dataframe tbody tr th:only-of-type {\n",
              "        vertical-align: middle;\n",
              "    }\n",
              "\n",
              "    .dataframe tbody tr th {\n",
              "        vertical-align: top;\n",
              "    }\n",
              "\n",
              "    .dataframe thead th {\n",
              "        text-align: right;\n",
              "    }\n",
              "</style>\n",
              "<table border=\"1\" class=\"dataframe\">\n",
              "  <thead>\n",
              "    <tr style=\"text-align: right;\">\n",
              "      <th></th>\n",
              "      <th>k</th>\n",
              "      <th>Inertia</th>\n",
              "    </tr>\n",
              "  </thead>\n",
              "  <tbody>\n",
              "    <tr>\n",
              "      <th>0</th>\n",
              "      <td>1</td>\n",
              "      <td>1679.424622</td>\n",
              "    </tr>\n",
              "    <tr>\n",
              "      <th>1</th>\n",
              "      <td>2</td>\n",
              "      <td>649.007298</td>\n",
              "    </tr>\n",
              "    <tr>\n",
              "      <th>2</th>\n",
              "      <td>3</td>\n",
              "      <td>304.629122</td>\n",
              "    </tr>\n",
              "    <tr>\n",
              "      <th>3</th>\n",
              "      <td>4</td>\n",
              "      <td>252.542262</td>\n",
              "    </tr>\n",
              "    <tr>\n",
              "      <th>4</th>\n",
              "      <td>5</td>\n",
              "      <td>208.360525</td>\n",
              "    </tr>\n",
              "    <tr>\n",
              "      <th>5</th>\n",
              "      <td>6</td>\n",
              "      <td>182.665804</td>\n",
              "    </tr>\n",
              "    <tr>\n",
              "      <th>6</th>\n",
              "      <td>7</td>\n",
              "      <td>155.799375</td>\n",
              "    </tr>\n",
              "  </tbody>\n",
              "</table>\n",
              "</div>"
            ],
            "text/plain": [
              "   k      Inertia\n",
              "0  1  1679.424622\n",
              "1  2   649.007298\n",
              "2  3   304.629122\n",
              "3  4   252.542262\n",
              "4  5   208.360525\n",
              "5  6   182.665804\n",
              "6  7   155.799375"
            ]
          },
          "metadata": {},
          "execution_count": 128
        }
      ]
    },
    {
      "cell_type": "code",
      "metadata": {
        "colab": {
          "base_uri": "https://localhost:8080/",
          "height": 369
        },
        "id": "f_nMISqIzbTy",
        "outputId": "68edce9c-6169-4605-e219-4698692877e2"
      },
      "source": [
        "line = alt.Chart(result_df).mark_line().encode(\n",
        "    x = 'k',\n",
        "    y = 'Inertia')\n",
        "\n",
        "points = alt.Chart(result_df).mark_point().encode(\n",
        "    x = 'k',\n",
        "    y = 'Inertia')\n",
        "\n",
        "line + points"
      ],
      "execution_count": null,
      "outputs": [
        {
          "output_type": "execute_result",
          "data": {
            "text/plain": [
              "alt.LayerChart(...)"
            ],
            "text/html": [
              "\n",
              "<div id=\"altair-viz-7443557c8f834a83aadc20434be44ca9\"></div>\n",
              "<script type=\"text/javascript\">\n",
              "  (function(spec, embedOpt){\n",
              "    let outputDiv = document.currentScript.previousElementSibling;\n",
              "    if (outputDiv.id !== \"altair-viz-7443557c8f834a83aadc20434be44ca9\") {\n",
              "      outputDiv = document.getElementById(\"altair-viz-7443557c8f834a83aadc20434be44ca9\");\n",
              "    }\n",
              "    const paths = {\n",
              "      \"vega\": \"https://cdn.jsdelivr.net/npm//vega@5?noext\",\n",
              "      \"vega-lib\": \"https://cdn.jsdelivr.net/npm//vega-lib?noext\",\n",
              "      \"vega-lite\": \"https://cdn.jsdelivr.net/npm//vega-lite@4.8.1?noext\",\n",
              "      \"vega-embed\": \"https://cdn.jsdelivr.net/npm//vega-embed@6?noext\",\n",
              "    };\n",
              "\n",
              "    function loadScript(lib) {\n",
              "      return new Promise(function(resolve, reject) {\n",
              "        var s = document.createElement('script');\n",
              "        s.src = paths[lib];\n",
              "        s.async = true;\n",
              "        s.onload = () => resolve(paths[lib]);\n",
              "        s.onerror = () => reject(`Error loading script: ${paths[lib]}`);\n",
              "        document.getElementsByTagName(\"head\")[0].appendChild(s);\n",
              "      });\n",
              "    }\n",
              "\n",
              "    function showError(err) {\n",
              "      outputDiv.innerHTML = `<div class=\"error\" style=\"color:red;\">${err}</div>`;\n",
              "      throw err;\n",
              "    }\n",
              "\n",
              "    function displayChart(vegaEmbed) {\n",
              "      vegaEmbed(outputDiv, spec, embedOpt)\n",
              "        .catch(err => showError(`Javascript Error: ${err.message}<br>This usually means there's a typo in your chart specification. See the javascript console for the full traceback.`));\n",
              "    }\n",
              "\n",
              "    if(typeof define === \"function\" && define.amd) {\n",
              "      requirejs.config({paths});\n",
              "      require([\"vega-embed\"], displayChart, err => showError(`Error loading script: ${err.message}`));\n",
              "    } else if (typeof vegaEmbed === \"function\") {\n",
              "      displayChart(vegaEmbed);\n",
              "    } else {\n",
              "      loadScript(\"vega\")\n",
              "        .then(() => loadScript(\"vega-lite\"))\n",
              "        .then(() => loadScript(\"vega-embed\"))\n",
              "        .catch(showError)\n",
              "        .then(() => displayChart(vegaEmbed));\n",
              "    }\n",
              "  })({\"config\": {\"view\": {\"continuousWidth\": 400, \"continuousHeight\": 300}}, \"layer\": [{\"mark\": \"line\", \"encoding\": {\"x\": {\"type\": \"quantitative\", \"field\": \"k\"}, \"y\": {\"type\": \"quantitative\", \"field\": \"Inertia\"}}}, {\"mark\": \"point\", \"encoding\": {\"x\": {\"type\": \"quantitative\", \"field\": \"k\"}, \"y\": {\"type\": \"quantitative\", \"field\": \"Inertia\"}}}], \"data\": {\"name\": \"data-6ef62527c59bce7220015e60e2ca617e\"}, \"$schema\": \"https://vega.github.io/schema/vega-lite/v4.8.1.json\", \"datasets\": {\"data-6ef62527c59bce7220015e60e2ca617e\": [{\"k\": 1, \"Inertia\": 1679.4246217025225}, {\"k\": 2, \"Inertia\": 649.0072983393483}, {\"k\": 3, \"Inertia\": 304.62912159374594}, {\"k\": 4, \"Inertia\": 252.5422620990617}, {\"k\": 5, \"Inertia\": 208.3605254522663}, {\"k\": 6, \"Inertia\": 182.66580422234028}, {\"k\": 7, \"Inertia\": 155.79937477964458}]}}, {\"mode\": \"vega-lite\"});\n",
              "</script>"
            ]
          },
          "metadata": {},
          "execution_count": 129
        }
      ]
    },
    {
      "cell_type": "markdown",
      "metadata": {
        "id": "X2N4lo8Jrogv"
      },
      "source": [
        "3) I picked a value of 3 for my k when clustering on A and B. Why did I choose that value?\n",
        "\n",
        "Because when there is low k, there is a low inertia. So when K = 3 the curve bends and that is exactly what we need here."
      ]
    },
    {
      "cell_type": "markdown",
      "metadata": {
        "id": "2Wth0HiPrvC4"
      },
      "source": [
        "4) Now, create a scatter plot of D vs C with the points colored by our class column, Z.\n",
        "\n",
        "Looking at the scatterplot what might be a good number of clusters?"
      ]
    },
    {
      "cell_type": "code",
      "metadata": {
        "id": "siFEHSnNtWVx",
        "colab": {
          "base_uri": "https://localhost:8080/",
          "height": 423
        },
        "outputId": "bb5354ca-cb9d-4543-b2c5-f4f95cdd8466"
      },
      "source": [
        "mycolumns = ['C','D','Z']\n",
        "raw_df[mycolumns]"
      ],
      "execution_count": null,
      "outputs": [
        {
          "output_type": "execute_result",
          "data": {
            "text/html": [
              "<div>\n",
              "<style scoped>\n",
              "    .dataframe tbody tr th:only-of-type {\n",
              "        vertical-align: middle;\n",
              "    }\n",
              "\n",
              "    .dataframe tbody tr th {\n",
              "        vertical-align: top;\n",
              "    }\n",
              "\n",
              "    .dataframe thead th {\n",
              "        text-align: right;\n",
              "    }\n",
              "</style>\n",
              "<table border=\"1\" class=\"dataframe\">\n",
              "  <thead>\n",
              "    <tr style=\"text-align: right;\">\n",
              "      <th></th>\n",
              "      <th>C</th>\n",
              "      <th>D</th>\n",
              "      <th>Z</th>\n",
              "    </tr>\n",
              "  </thead>\n",
              "  <tbody>\n",
              "    <tr>\n",
              "      <th>0</th>\n",
              "      <td>2.498082</td>\n",
              "      <td>0.397016</td>\n",
              "      <td>0</td>\n",
              "    </tr>\n",
              "    <tr>\n",
              "      <th>1</th>\n",
              "      <td>2.254481</td>\n",
              "      <td>1.997854</td>\n",
              "      <td>0</td>\n",
              "    </tr>\n",
              "    <tr>\n",
              "      <th>2</th>\n",
              "      <td>2.741863</td>\n",
              "      <td>2.328939</td>\n",
              "      <td>0</td>\n",
              "    </tr>\n",
              "    <tr>\n",
              "      <th>3</th>\n",
              "      <td>1.972386</td>\n",
              "      <td>1.949399</td>\n",
              "      <td>0</td>\n",
              "    </tr>\n",
              "    <tr>\n",
              "      <th>4</th>\n",
              "      <td>2.053983</td>\n",
              "      <td>1.923515</td>\n",
              "      <td>0</td>\n",
              "    </tr>\n",
              "    <tr>\n",
              "      <th>...</th>\n",
              "      <td>...</td>\n",
              "      <td>...</td>\n",
              "      <td>...</td>\n",
              "    </tr>\n",
              "    <tr>\n",
              "      <th>235</th>\n",
              "      <td>2.092193</td>\n",
              "      <td>-2.416801</td>\n",
              "      <td>1</td>\n",
              "    </tr>\n",
              "    <tr>\n",
              "      <th>236</th>\n",
              "      <td>2.120068</td>\n",
              "      <td>-2.643103</td>\n",
              "      <td>1</td>\n",
              "    </tr>\n",
              "    <tr>\n",
              "      <th>237</th>\n",
              "      <td>1.894980</td>\n",
              "      <td>-2.616800</td>\n",
              "      <td>1</td>\n",
              "    </tr>\n",
              "    <tr>\n",
              "      <th>238</th>\n",
              "      <td>3.134005</td>\n",
              "      <td>-2.355999</td>\n",
              "      <td>1</td>\n",
              "    </tr>\n",
              "    <tr>\n",
              "      <th>239</th>\n",
              "      <td>1.155935</td>\n",
              "      <td>-1.640106</td>\n",
              "      <td>1</td>\n",
              "    </tr>\n",
              "  </tbody>\n",
              "</table>\n",
              "<p>240 rows × 3 columns</p>\n",
              "</div>"
            ],
            "text/plain": [
              "            C         D  Z\n",
              "0    2.498082  0.397016  0\n",
              "1    2.254481  1.997854  0\n",
              "2    2.741863  2.328939  0\n",
              "3    1.972386  1.949399  0\n",
              "4    2.053983  1.923515  0\n",
              "..        ...       ... ..\n",
              "235  2.092193 -2.416801  1\n",
              "236  2.120068 -2.643103  1\n",
              "237  1.894980 -2.616800  1\n",
              "238  3.134005 -2.355999  1\n",
              "239  1.155935 -1.640106  1\n",
              "\n",
              "[240 rows x 3 columns]"
            ]
          },
          "metadata": {},
          "execution_count": 130
        }
      ]
    },
    {
      "cell_type": "code",
      "metadata": {
        "colab": {
          "base_uri": "https://localhost:8080/",
          "height": 363
        },
        "id": "E5EzL70oXWqq",
        "outputId": "5d673959-e5d4-4817-ffa7-998cbd490c42"
      },
      "source": [
        "alt.Chart(raw_df[mycolumns]).mark_point().encode(\n",
        "    alt.X('C'),\n",
        "    alt.Y('D'),\n",
        "    color = \"Z:N\")"
      ],
      "execution_count": null,
      "outputs": [
        {
          "output_type": "execute_result",
          "data": {
            "text/plain": [
              "alt.Chart(...)"
            ],
            "text/html": [
              "\n",
              "<div id=\"altair-viz-6191313653ff410fb6ba3bf98bcd97a0\"></div>\n",
              "<script type=\"text/javascript\">\n",
              "  (function(spec, embedOpt){\n",
              "    let outputDiv = document.currentScript.previousElementSibling;\n",
              "    if (outputDiv.id !== \"altair-viz-6191313653ff410fb6ba3bf98bcd97a0\") {\n",
              "      outputDiv = document.getElementById(\"altair-viz-6191313653ff410fb6ba3bf98bcd97a0\");\n",
              "    }\n",
              "    const paths = {\n",
              "      \"vega\": \"https://cdn.jsdelivr.net/npm//vega@5?noext\",\n",
              "      \"vega-lib\": \"https://cdn.jsdelivr.net/npm//vega-lib?noext\",\n",
              "      \"vega-lite\": \"https://cdn.jsdelivr.net/npm//vega-lite@4.8.1?noext\",\n",
              "      \"vega-embed\": \"https://cdn.jsdelivr.net/npm//vega-embed@6?noext\",\n",
              "    };\n",
              "\n",
              "    function loadScript(lib) {\n",
              "      return new Promise(function(resolve, reject) {\n",
              "        var s = document.createElement('script');\n",
              "        s.src = paths[lib];\n",
              "        s.async = true;\n",
              "        s.onload = () => resolve(paths[lib]);\n",
              "        s.onerror = () => reject(`Error loading script: ${paths[lib]}`);\n",
              "        document.getElementsByTagName(\"head\")[0].appendChild(s);\n",
              "      });\n",
              "    }\n",
              "\n",
              "    function showError(err) {\n",
              "      outputDiv.innerHTML = `<div class=\"error\" style=\"color:red;\">${err}</div>`;\n",
              "      throw err;\n",
              "    }\n",
              "\n",
              "    function displayChart(vegaEmbed) {\n",
              "      vegaEmbed(outputDiv, spec, embedOpt)\n",
              "        .catch(err => showError(`Javascript Error: ${err.message}<br>This usually means there's a typo in your chart specification. See the javascript console for the full traceback.`));\n",
              "    }\n",
              "\n",
              "    if(typeof define === \"function\" && define.amd) {\n",
              "      requirejs.config({paths});\n",
              "      require([\"vega-embed\"], displayChart, err => showError(`Error loading script: ${err.message}`));\n",
              "    } else if (typeof vegaEmbed === \"function\") {\n",
              "      displayChart(vegaEmbed);\n",
              "    } else {\n",
              "      loadScript(\"vega\")\n",
              "        .then(() => loadScript(\"vega-lite\"))\n",
              "        .then(() => loadScript(\"vega-embed\"))\n",
              "        .catch(showError)\n",
              "        .then(() => displayChart(vegaEmbed));\n",
              "    }\n",
              "  })({\"config\": {\"view\": {\"continuousWidth\": 400, \"continuousHeight\": 300}}, \"data\": {\"name\": \"data-1792268f4d5dee1dbcbdfcb1be3e7de6\"}, \"mark\": \"point\", \"encoding\": {\"color\": {\"type\": \"nominal\", \"field\": \"Z\"}, \"x\": {\"type\": \"quantitative\", \"field\": \"C\"}, \"y\": {\"type\": \"quantitative\", \"field\": \"D\"}}, \"$schema\": \"https://vega.github.io/schema/vega-lite/v4.8.1.json\", \"datasets\": {\"data-1792268f4d5dee1dbcbdfcb1be3e7de6\": [{\"C\": 2.4980815728900363, \"D\": 0.3970159348493316, \"Z\": 0}, {\"C\": 2.254480631039091, \"D\": 1.9978540179739257, \"Z\": 0}, {\"C\": 2.7418626670126303, \"D\": 2.328938553481276, \"Z\": 0}, {\"C\": 1.972386302740372, \"D\": 1.949398884638493, \"Z\": 0}, {\"C\": 2.0539828001091056, \"D\": 1.9235153601421648, \"Z\": 0}, {\"C\": 2.08687189474012, \"D\": 2.3748006911634043, \"Z\": 0}, {\"C\": 2.0172545333177268, \"D\": 1.926863368872328, \"Z\": 0}, {\"C\": 2.2982859454265623, \"D\": 3.264550847774629, \"Z\": 0}, {\"C\": 2.3437152870700872, \"D\": 1.7862924810354162, \"Z\": 0}, {\"C\": 2.2494377394639606, \"D\": 2.231844910807504, \"Z\": 0}, {\"C\": 0.9151894135831524, \"D\": 2.6933175920615784, \"Z\": 0}, {\"C\": 2.0810932341331463, \"D\": 2.322386967680402, \"Z\": 0}, {\"C\": 2.651007036795084, \"D\": 2.266085602985253, \"Z\": 0}, {\"C\": 2.4639821867389657, \"D\": 2.730523947079515, \"Z\": 0}, {\"C\": 2.982666014075265, \"D\": 1.8363042543585304, \"Z\": 0}, {\"C\": 1.485630479865971, \"D\": 1.99183534603071, \"Z\": 0}, {\"C\": 1.2594255520796116, \"D\": 2.1456815730903243, \"Z\": 0}, {\"C\": 1.751848143610316, \"D\": 1.8378184945138167, \"Z\": 0}, {\"C\": 1.9025148757231127, \"D\": 1.6304573720441629, \"Z\": 0}, {\"C\": 1.8115863465870157, \"D\": 2.2472645117801284, \"Z\": 0}, {\"C\": 2.9892636705797724, \"D\": 1.6016266388391769, \"Z\": 0}, {\"C\": 1.3525966999948025, \"D\": 2.635986444576769, \"Z\": 0}, {\"C\": 2.3563997892432798, \"D\": 1.7854053339675042, \"Z\": 0}, {\"C\": 1.508411962216039, \"D\": 1.821197041055125, \"Z\": 0}, {\"C\": 2.277443754578949, \"D\": 2.0353910634699544, \"Z\": 0}, {\"C\": 2.121018131254638, \"D\": 2.555564890474489, \"Z\": 0}, {\"C\": 2.2373701753498016, \"D\": 1.9230763571097569, \"Z\": 0}, {\"C\": 2.4610419985318597, \"D\": 2.155349206814495, \"Z\": 0}, {\"C\": 1.7084922020482995, \"D\": 2.020094637936188, \"Z\": 0}, {\"C\": 1.982476088377639, \"D\": 2.7189271204930026, \"Z\": 0}, {\"C\": 1.7856549771717964, \"D\": 2.454254356125324, \"Z\": 0}, {\"C\": 2.11030623049652, \"D\": 2.9599269102183494, \"Z\": 0}, {\"C\": 1.836849776028676, \"D\": 2.710508756288009, \"Z\": 0}, {\"C\": 2.1243584230261017, \"D\": 1.4147341318180655, \"Z\": 0}, {\"C\": 1.9035237974031167, \"D\": 2.0567981857077147, \"Z\": 0}, {\"C\": 2.978355843034428, \"D\": 2.012755566971524, \"Z\": 0}, {\"C\": 2.130228766692221, \"D\": 1.8448386635648517, \"Z\": 0}, {\"C\": 2.109045834387424, \"D\": 2.1330040660377985, \"Z\": 0}, {\"C\": 2.3784458740980985, \"D\": 2.1801913202781504, \"Z\": 0}, {\"C\": 1.8923899126693489, \"D\": 2.2149694729151324, \"Z\": 0}, {\"C\": 1.7195074674009874, \"D\": 1.4116530770526718, \"Z\": 0}, {\"C\": 2.51484300313953, \"D\": 1.53638260496643, \"Z\": 0}, {\"C\": 3.1230475967119675, \"D\": 2.8121326859075104, \"Z\": 0}, {\"C\": 2.273096761206266, \"D\": 2.7871425785815127, \"Z\": 0}, {\"C\": 1.7354568359965032, \"D\": 2.220450494498744, \"Z\": 0}, {\"C\": 1.4242469425933892, \"D\": 2.782731246974565, \"Z\": 0}, {\"C\": 2.1681782381110373, \"D\": 1.5072027283642264, \"Z\": 0}, {\"C\": 1.6315295838367467, \"D\": 2.225194696999826, \"Z\": 0}, {\"C\": 2.5465986539071475, \"D\": 1.767937532300722, \"Z\": 0}, {\"C\": 1.930279568068343, \"D\": 1.5949196390420959, \"Z\": 0}, {\"C\": 2.0388571213597317, \"D\": 2.554348781866058, \"Z\": 0}, {\"C\": 1.7391229668092818, \"D\": 1.7644570257397674, \"Z\": 0}, {\"C\": 1.4538074784062425, \"D\": 1.3847401086552606, \"Z\": 0}, {\"C\": 1.1119317270595614, \"D\": 1.3938503780466998, \"Z\": 0}, {\"C\": 2.7066654361623863, \"D\": 1.6390503169326631, \"Z\": 0}, {\"C\": 2.0730707349962265, \"D\": 1.6261639398569352, \"Z\": 0}, {\"C\": 1.5470483507605417, \"D\": 1.1629512829598403, \"Z\": 0}, {\"C\": 1.9878094798572048, \"D\": 1.8885722395947224, \"Z\": 0}, {\"C\": 1.7159632558245936, \"D\": 2.2708360190878474, \"Z\": 0}, {\"C\": 2.4218696776435342, \"D\": 1.8928312532530995, \"Z\": 0}, {\"C\": -1.536059264100906, \"D\": 1.5878081439747218, \"Z\": 0}, {\"C\": -1.7836454156352228, \"D\": 2.5444888834308648, \"Z\": 1}, {\"C\": -1.8176141005997808, \"D\": 2.1524531598401544, \"Z\": 0}, {\"C\": -2.2198192826070646, \"D\": 1.7864577127828785, \"Z\": 0}, {\"C\": -2.229269817713707, \"D\": 2.02437746030009, \"Z\": 0}, {\"C\": -1.7387859006774695, \"D\": 2.190231308964105, \"Z\": 0}, {\"C\": -2.5358244121816327, \"D\": 2.0597725082807266, \"Z\": 0}, {\"C\": -2.7212769410813955, \"D\": 2.3772164667135374, \"Z\": 0}, {\"C\": -2.0267335319504816, \"D\": 2.8535160778372304, \"Z\": 0}, {\"C\": -1.8830364949742024, \"D\": 1.1550906800416212, \"Z\": 0}, {\"C\": -2.3678973391289504, \"D\": 1.4633693022283525, \"Z\": 0}, {\"C\": -2.2614543112152408, \"D\": 2.025197797485234, \"Z\": 0}, {\"C\": -0.907427234509962, \"D\": 1.43133053132029, \"Z\": 0}, {\"C\": -1.6839955474065982, \"D\": 2.20357049154758, \"Z\": 0}, {\"C\": -2.5670786175559406, \"D\": 1.0855303364077675, \"Z\": 0}, {\"C\": -1.7456265835580398, \"D\": 2.364897108277578, \"Z\": 0}, {\"C\": -1.378513475226636, \"D\": 1.9374207303348765, \"Z\": 0}, {\"C\": -2.4524120154617184, \"D\": 1.222651180268679, \"Z\": 0}, {\"C\": -1.8532135204053857, \"D\": 3.0209789021834266, \"Z\": 0}, {\"C\": -2.489626966892857, \"D\": 2.536843853625748, \"Z\": 1}, {\"C\": -2.049399511101313, \"D\": 2.342380336154746, \"Z\": 1}, {\"C\": -1.867531745951084, \"D\": 2.0964262215925085, \"Z\": 1}, {\"C\": -1.5709552703916017, \"D\": 1.8693470719352248, \"Z\": 1}, {\"C\": -1.465337083105506, \"D\": 1.885527556165994, \"Z\": 1}, {\"C\": -1.6511755889889774, \"D\": 2.6242317188745634, \"Z\": 1}, {\"C\": -2.149030292213034, \"D\": 1.7341906943165668, \"Z\": 1}, {\"C\": -2.2300058497466253, \"D\": 1.3183776289564355, \"Z\": 1}, {\"C\": -1.8587035508078489, \"D\": 1.6989505579449895, \"Z\": 1}, {\"C\": -1.4324325420904138, \"D\": 2.5006952661934285, \"Z\": 1}, {\"C\": -2.229002276760096, \"D\": 1.8786032600546547, \"Z\": 1}, {\"C\": -1.6743340561108506, \"D\": 1.9444770331164556, \"Z\": 1}, {\"C\": -2.5462350880692397, \"D\": 1.5512540831317994, \"Z\": 1}, {\"C\": -2.1856312857826428, \"D\": 1.5263630797643517, \"Z\": 1}, {\"C\": -1.5739071422436293, \"D\": 1.6922006597756585, \"Z\": 1}, {\"C\": -2.0749735176779835, \"D\": 2.7618018128095105, \"Z\": 1}, {\"C\": -2.2300161513307994, \"D\": 2.22380000630752, \"Z\": 1}, {\"C\": -2.415532892839181, \"D\": 2.123584189314664, \"Z\": 1}, {\"C\": -2.2307593988442136, \"D\": 1.4823698361962712, \"Z\": 1}, {\"C\": -1.3586631300330503, \"D\": 2.2323924153428183, \"Z\": 1}, {\"C\": -1.8865954573595165, \"D\": 1.6458562421038323, \"Z\": 1}, {\"C\": -2.280376602530042, \"D\": 2.6463117290118774, \"Z\": 1}, {\"C\": -1.9033623464441685, \"D\": 1.0016079295662252, \"Z\": 1}, {\"C\": -1.9317203736462576, \"D\": 1.782442069251013, \"Z\": 1}, {\"C\": -2.109505927605563, \"D\": 1.8765267065416769, \"Z\": 1}, {\"C\": -1.719945081472443, \"D\": 1.6928221631283693, \"Z\": 1}, {\"C\": -2.523719620866895, \"D\": 2.242498131801182, \"Z\": 1}, {\"C\": -2.1767757147077087, \"D\": 2.391417078153132, \"Z\": 1}, {\"C\": -2.176994946226868, \"D\": 1.41406363040229, \"Z\": 1}, {\"C\": -2.7239730696818247, \"D\": 1.7700746558905174, \"Z\": 1}, {\"C\": -2.1835357648380582, \"D\": 2.1098747509361924, \"Z\": 1}, {\"C\": -2.504173618897407, \"D\": 2.156829656891301, \"Z\": 1}, {\"C\": -1.6268899820015126, \"D\": 3.0466667835258883, \"Z\": 1}, {\"C\": -2.891940905019404, \"D\": 1.8089672675790618, \"Z\": 1}, {\"C\": -0.8035673491942337, \"D\": 2.191034366289069, \"Z\": 1}, {\"C\": -2.1841008623592666, \"D\": 1.8439370700622075, \"Z\": 1}, {\"C\": -1.3496109014051605, \"D\": 2.6536847882367915, \"Z\": 1}, {\"C\": -1.6259442573751484, \"D\": 1.4814353541969292, \"Z\": 1}, {\"C\": -2.0773328852185293, \"D\": 1.4074383767103744, \"Z\": 1}, {\"C\": -1.839805085264821, \"D\": 2.509062040779578, \"Z\": 1}, {\"C\": -2.103010839063895, \"D\": 2.581167471738377, \"Z\": 1}, {\"C\": -1.5592339907294, \"D\": -1.2338414224235692, \"Z\": 0}, {\"C\": -2.5227906810299565, \"D\": -2.213419106574672, \"Z\": 0}, {\"C\": -2.9244428520838763, \"D\": -2.097573459065324, \"Z\": 0}, {\"C\": -1.6213830012078023, \"D\": -2.1547870441238137, \"Z\": 0}, {\"C\": -2.5389323203271563, \"D\": -2.7149714914597745, \"Z\": 0}, {\"C\": -2.2386183166157823, \"D\": -2.115182273373322, \"Z\": 0}, {\"C\": -1.308506521200231, \"D\": -1.968638311588209, \"Z\": 0}, {\"C\": -2.5171553615690745, \"D\": -1.2809427611248112, \"Z\": 0}, {\"C\": -1.8540106771262048, \"D\": -1.4164155312045374, \"Z\": 0}, {\"C\": -2.4194898191710417, \"D\": -2.122670148400128, \"Z\": 0}, {\"C\": -1.2474301843548323, \"D\": -2.4451214096306826, \"Z\": 0}, {\"C\": -2.5664170280330074, \"D\": -2.48490388501206, \"Z\": 0}, {\"C\": -2.430856895440724, \"D\": -2.405733216358217, \"Z\": 0}, {\"C\": -2.5937450549084495, \"D\": -2.0893858499869755, \"Z\": 0}, {\"C\": -1.4991368111820491, \"D\": -1.2791308107412636, \"Z\": 1}, {\"C\": -1.85240449332122, \"D\": -1.5469850615941478, \"Z\": 0}, {\"C\": -2.411465429007856, \"D\": -1.8556061332897047, \"Z\": 0}, {\"C\": -1.9566127799894224, \"D\": -1.7956674457103277, \"Z\": 0}, {\"C\": -1.897638358655433, \"D\": -2.808445188289132, \"Z\": 0}, {\"C\": -2.3268112130600884, \"D\": -1.9307119970535296, \"Z\": 0}, {\"C\": -2.113519463162032, \"D\": -1.4345157415253962, \"Z\": 0}, {\"C\": -2.137471523240684, \"D\": -2.7803989871174526, \"Z\": 0}, {\"C\": -1.6554875699810132, \"D\": -2.5434858247978536, \"Z\": 0}, {\"C\": -1.3855949444202802, \"D\": -1.2951170334255184, \"Z\": 0}, {\"C\": -1.8505165182634769, \"D\": -2.461680229289275, \"Z\": 0}, {\"C\": -2.3746670274826074, \"D\": -1.1669438115593032, \"Z\": 0}, {\"C\": -2.1876824217238493, \"D\": -2.7259350367926087, \"Z\": 0}, {\"C\": -1.7947955713458918, \"D\": -2.4689372323971246, \"Z\": 0}, {\"C\": -2.1579662993219104, \"D\": -1.5178018555567123, \"Z\": 0}, {\"C\": -1.483757059491842, \"D\": -1.908409642408294, \"Z\": 1}, {\"C\": -1.5636769840599, \"D\": -1.2212024703734214, \"Z\": 0}, {\"C\": -1.8484130680960889, \"D\": -1.923990138822969, \"Z\": 0}, {\"C\": -1.779332466433996, \"D\": -1.0724740203870229, \"Z\": 0}, {\"C\": -1.9318059316813057, \"D\": -2.0063331873095422, \"Z\": 0}, {\"C\": -2.5490853312335764, \"D\": -0.9539374978436952, \"Z\": 0}, {\"C\": -2.2512875694101684, \"D\": -1.55340572057462, \"Z\": 0}, {\"C\": -2.2345518693969697, \"D\": -1.909069348962096, \"Z\": 0}, {\"C\": -3.3693593245173004, \"D\": -2.164781137076284, \"Z\": 0}, {\"C\": -2.287619779001692, \"D\": -1.9932712516583648, \"Z\": 0}, {\"C\": -2.051067218064162, \"D\": -2.4698257801093657, \"Z\": 0}, {\"C\": -1.1136988999326438, \"D\": -1.7918758182146248, \"Z\": 1}, {\"C\": -2.0867417223631666, \"D\": -1.9183703438394482, \"Z\": 1}, {\"C\": -1.6632321953187812, \"D\": -2.2312150845164345, \"Z\": 1}, {\"C\": -2.2188865203228714, \"D\": -2.263269886853521, \"Z\": 1}, {\"C\": -1.6054312541959432, \"D\": -1.8835544400576865, \"Z\": 0}, {\"C\": -1.0797524340097857, \"D\": -1.4663655596099865, \"Z\": 1}, {\"C\": -1.8433491451489712, \"D\": -1.727461299943483, \"Z\": 1}, {\"C\": -1.96598775370458, \"D\": -2.388242359966478, \"Z\": 1}, {\"C\": -2.4501508784091457, \"D\": -2.365903341178181, \"Z\": 1}, {\"C\": -2.80706310908826, \"D\": -2.369249713353139, \"Z\": 0}, {\"C\": -2.1938993816740195, \"D\": -2.385918831347416, \"Z\": 1}, {\"C\": -1.7566010025850487, \"D\": -2.055893136052487, \"Z\": 1}, {\"C\": -2.20267237940163, \"D\": -1.8759840711909619, \"Z\": 1}, {\"C\": -1.6480828003833887, \"D\": -2.2359507779238847, \"Z\": 1}, {\"C\": -2.533365718352313, \"D\": -2.222805130804038, \"Z\": 0}, {\"C\": -1.9670487372567236, \"D\": -1.924059844951474, \"Z\": 1}, {\"C\": -2.6332294709174238, \"D\": -2.209847733047552, \"Z\": 1}, {\"C\": -2.1954299941975712, \"D\": -1.8445472048025595, \"Z\": 1}, {\"C\": -2.633757755038533, \"D\": -1.4553885000959041, \"Z\": 1}, {\"C\": -2.0938856073122967, \"D\": -3.0222985388464663, \"Z\": 1}, {\"C\": 1.6742637284434094, \"D\": -1.780779316191941, \"Z\": 1}, {\"C\": 1.9365483059680733, \"D\": -1.7171639929213804, \"Z\": 1}, {\"C\": 2.2825430729798817, \"D\": -2.00857875599814, \"Z\": 1}, {\"C\": 2.254061260431274, \"D\": -1.96107246065476, \"Z\": 1}, {\"C\": 1.316772327192648, \"D\": -2.2761313337493267, \"Z\": 1}, {\"C\": 2.381726414552018, \"D\": -1.663855513271007, \"Z\": 1}, {\"C\": 2.297844527905786, \"D\": -1.9949531787094048, \"Z\": 1}, {\"C\": 2.9731414424657694, \"D\": -2.18476046477276, \"Z\": 1}, {\"C\": 2.1885022661778963, \"D\": -2.1037549963046898, \"Z\": 1}, {\"C\": 3.0170552245771383, \"D\": -2.4801252656691606, \"Z\": 1}, {\"C\": 1.603311374733304, \"D\": -1.4943083426664905, \"Z\": 1}, {\"C\": 1.2939133892119892, \"D\": -2.3321104062424705, \"Z\": 1}, {\"C\": 1.6792901932271027, \"D\": -1.9085690613473512, \"Z\": 1}, {\"C\": 2.151242707449396, \"D\": -1.1847498983271647, \"Z\": 1}, {\"C\": 2.072722838855129, \"D\": -2.6161585063610238, \"Z\": 1}, {\"C\": 1.8536028927267283, \"D\": -1.870547733939568, \"Z\": 1}, {\"C\": 2.719708995211547, \"D\": -2.330738772448488, \"Z\": 1}, {\"C\": 1.2968318213616985, \"D\": -2.3888319000750093, \"Z\": 1}, {\"C\": 2.831557977007437, \"D\": -2.203225813215618, \"Z\": 1}, {\"C\": 2.758090655888374, \"D\": -2.606897721183783, \"Z\": 1}, {\"C\": 1.004888026588568, \"D\": -2.266947001852349, \"Z\": 1}, {\"C\": 1.72850301039165, \"D\": -1.9389959583478595, \"Z\": 1}, {\"C\": 2.542360569653162, \"D\": -2.430216915783665, \"Z\": 1}, {\"C\": 1.5051824748903082, \"D\": -1.343155712864586, \"Z\": 1}, {\"C\": 2.5840824279772656, \"D\": -1.6472180225750732, \"Z\": 1}, {\"C\": 2.0846115187517507, \"D\": -1.7900024104864007, \"Z\": 1}, {\"C\": 1.4740706458247137, \"D\": -1.1800064790014262, \"Z\": 1}, {\"C\": 1.520191963099384, \"D\": -1.399553638998022, \"Z\": 1}, {\"C\": 1.6306980877314474, \"D\": -2.202877597549595, \"Z\": 1}, {\"C\": 2.144605368742182, \"D\": -2.4816953419109886, \"Z\": 1}, {\"C\": 1.7596085917440958, \"D\": -1.7044150361927068, \"Z\": 1}, {\"C\": 1.9841825191640692, \"D\": -1.222667901380141, \"Z\": 1}, {\"C\": 2.502229579350172, \"D\": -1.4695487347816598, \"Z\": 1}, {\"C\": 2.0720686550828202, \"D\": -2.68865322872196, \"Z\": 1}, {\"C\": 2.222853606534056, \"D\": -2.008201257608551, \"Z\": 1}, {\"C\": 2.559706093617762, \"D\": -2.64007422222925, \"Z\": 1}, {\"C\": 1.7541703965173798, \"D\": -2.0749132746071344, \"Z\": 1}, {\"C\": 2.013092534166578, \"D\": -2.428410097942435, \"Z\": 1}, {\"C\": 1.7377559562360796, \"D\": -1.6448545166315018, \"Z\": 1}, {\"C\": 1.0833590619084592, \"D\": -1.877227310702807, \"Z\": 1}, {\"C\": 1.102543602902243, \"D\": -1.1321108419087569, \"Z\": 1}, {\"C\": 0.9661762250468398, \"D\": -2.0745878429580404, \"Z\": 1}, {\"C\": 1.7120504185251966, \"D\": -2.2760794696942117, \"Z\": 1}, {\"C\": 2.039808844920316, \"D\": -1.988319288571316, \"Z\": 1}, {\"C\": 1.8661120607948751, \"D\": -2.355394127536104, \"Z\": 1}, {\"C\": 3.283055334754596, \"D\": -2.296923051792521, \"Z\": 1}, {\"C\": 1.900038842823441, \"D\": -2.8937954544113267, \"Z\": 1}, {\"C\": 2.3981186135606434, \"D\": -1.699002617634484, \"Z\": 1}, {\"C\": 1.3031597774342183, \"D\": -2.289528260131865, \"Z\": 1}, {\"C\": 2.2011310218080884, \"D\": -1.3654619784986024, \"Z\": 1}, {\"C\": 1.1899526533010174, \"D\": -2.1873679143319507, \"Z\": 1}, {\"C\": 2.2449723429536594, \"D\": -1.7532101799016184, \"Z\": 1}, {\"C\": 1.8619835202324235, \"D\": -2.5986884080472654, \"Z\": 1}, {\"C\": 2.1344309859322377, \"D\": -1.133058863337028, \"Z\": 1}, {\"C\": 1.492513413583871, \"D\": -1.9132966174040824, \"Z\": 1}, {\"C\": 2.092193247000921, \"D\": -2.4168011709322985, \"Z\": 1}, {\"C\": 2.1200679641560103, \"D\": -2.643103094275254, \"Z\": 1}, {\"C\": 1.8949798205089627, \"D\": -2.6168002254574367, \"Z\": 1}, {\"C\": 3.1340053467549627, \"D\": -2.3559992530324108, \"Z\": 1}, {\"C\": 1.1559354667211448, \"D\": -1.6401055294727964, \"Z\": 1}]}}, {\"mode\": \"vega-lite\"});\n",
              "</script>"
            ]
          },
          "metadata": {},
          "execution_count": 132
        }
      ]
    },
    {
      "cell_type": "markdown",
      "metadata": {
        "id": "-KZoa4AnXeBd"
      },
      "source": [
        "Looking at the scatterplot, 4 seems like a good cluster."
      ]
    },
    {
      "cell_type": "markdown",
      "metadata": {
        "id": "tmEt9DSrr61R"
      },
      "source": [
        "5) Again, create an elbow plot of the inertias across different values of k for clustering on the C and D columns. Calculate the inertia for values of k 1-7. Then create a line plot (ideally also with points) of the inertia vs k."
      ]
    },
    {
      "cell_type": "code",
      "metadata": {
        "id": "TSY_c7q35cjC",
        "colab": {
          "base_uri": "https://localhost:8080/",
          "height": 269
        },
        "outputId": "531c6bb5-8be1-457d-e6ed-c09b568fc999"
      },
      "source": [
        "km1 = KMeans(n_clusters = 1, random_state = 0).fit(raw_df.iloc[:,2:4])\n",
        "km2 = KMeans(n_clusters = 2, random_state = 0).fit(raw_df.iloc[:,2:4])\n",
        "km3 = KMeans(n_clusters = 3, random_state = 0).fit(raw_df.iloc[:,2:4])\n",
        "km4 = KMeans(n_clusters = 4, random_state = 0).fit(raw_df.iloc[:,2:4])\n",
        "km5 = KMeans(n_clusters = 5, random_state = 0).fit(raw_df.iloc[:,2:4])\n",
        "km6 = KMeans(n_clusters = 6, random_state = 0).fit(raw_df.iloc[:,2:4])\n",
        "km7 = KMeans(n_clusters = 7, random_state = 0).fit(raw_df.iloc[:,2:4])\n",
        "\n",
        "k_values = [1,2,3,4,5,6,7]\n",
        "inertia = [km1.inertia_, km2.inertia_, km3.inertia_, km4.inertia_, km5.inertia_, km6.inertia_, km7.inertia_]\n",
        "result_df = pd.DataFrame({'k':k_values, 'Inertia':inertia})\n",
        "result_df"
      ],
      "execution_count": null,
      "outputs": [
        {
          "output_type": "execute_result",
          "data": {
            "text/html": [
              "<div>\n",
              "<style scoped>\n",
              "    .dataframe tbody tr th:only-of-type {\n",
              "        vertical-align: middle;\n",
              "    }\n",
              "\n",
              "    .dataframe tbody tr th {\n",
              "        vertical-align: top;\n",
              "    }\n",
              "\n",
              "    .dataframe thead th {\n",
              "        text-align: right;\n",
              "    }\n",
              "</style>\n",
              "<table border=\"1\" class=\"dataframe\">\n",
              "  <thead>\n",
              "    <tr style=\"text-align: right;\">\n",
              "      <th></th>\n",
              "      <th>k</th>\n",
              "      <th>Inertia</th>\n",
              "    </tr>\n",
              "  </thead>\n",
              "  <tbody>\n",
              "    <tr>\n",
              "      <th>0</th>\n",
              "      <td>1</td>\n",
              "      <td>2066.285570</td>\n",
              "    </tr>\n",
              "    <tr>\n",
              "      <th>1</th>\n",
              "      <td>2</td>\n",
              "      <td>1081.659836</td>\n",
              "    </tr>\n",
              "    <tr>\n",
              "      <th>2</th>\n",
              "      <td>3</td>\n",
              "      <td>583.181884</td>\n",
              "    </tr>\n",
              "    <tr>\n",
              "      <th>3</th>\n",
              "      <td>4</td>\n",
              "      <td>107.278205</td>\n",
              "    </tr>\n",
              "    <tr>\n",
              "      <th>4</th>\n",
              "      <td>5</td>\n",
              "      <td>94.494128</td>\n",
              "    </tr>\n",
              "    <tr>\n",
              "      <th>5</th>\n",
              "      <td>6</td>\n",
              "      <td>84.099338</td>\n",
              "    </tr>\n",
              "    <tr>\n",
              "      <th>6</th>\n",
              "      <td>7</td>\n",
              "      <td>75.277067</td>\n",
              "    </tr>\n",
              "  </tbody>\n",
              "</table>\n",
              "</div>"
            ],
            "text/plain": [
              "   k      Inertia\n",
              "0  1  2066.285570\n",
              "1  2  1081.659836\n",
              "2  3   583.181884\n",
              "3  4   107.278205\n",
              "4  5    94.494128\n",
              "5  6    84.099338\n",
              "6  7    75.277067"
            ]
          },
          "metadata": {},
          "execution_count": 133
        }
      ]
    },
    {
      "cell_type": "code",
      "metadata": {
        "colab": {
          "base_uri": "https://localhost:8080/",
          "height": 369
        },
        "id": "L_y5yVnQToml",
        "outputId": "3d0b0cf8-4d70-44ea-9afd-26b0a5a32199"
      },
      "source": [
        "line = alt.Chart(result_df).mark_line().encode(\n",
        "    x = 'k',\n",
        "    y = 'Inertia')\n",
        "\n",
        "points = alt.Chart(result_df).mark_point().encode(\n",
        "    x = 'k',\n",
        "    y = 'Inertia')\n",
        "\n",
        "line + points"
      ],
      "execution_count": null,
      "outputs": [
        {
          "output_type": "execute_result",
          "data": {
            "text/plain": [
              "alt.LayerChart(...)"
            ],
            "text/html": [
              "\n",
              "<div id=\"altair-viz-d32cdf13d1ce46c2872a4540f1d89521\"></div>\n",
              "<script type=\"text/javascript\">\n",
              "  (function(spec, embedOpt){\n",
              "    let outputDiv = document.currentScript.previousElementSibling;\n",
              "    if (outputDiv.id !== \"altair-viz-d32cdf13d1ce46c2872a4540f1d89521\") {\n",
              "      outputDiv = document.getElementById(\"altair-viz-d32cdf13d1ce46c2872a4540f1d89521\");\n",
              "    }\n",
              "    const paths = {\n",
              "      \"vega\": \"https://cdn.jsdelivr.net/npm//vega@5?noext\",\n",
              "      \"vega-lib\": \"https://cdn.jsdelivr.net/npm//vega-lib?noext\",\n",
              "      \"vega-lite\": \"https://cdn.jsdelivr.net/npm//vega-lite@4.8.1?noext\",\n",
              "      \"vega-embed\": \"https://cdn.jsdelivr.net/npm//vega-embed@6?noext\",\n",
              "    };\n",
              "\n",
              "    function loadScript(lib) {\n",
              "      return new Promise(function(resolve, reject) {\n",
              "        var s = document.createElement('script');\n",
              "        s.src = paths[lib];\n",
              "        s.async = true;\n",
              "        s.onload = () => resolve(paths[lib]);\n",
              "        s.onerror = () => reject(`Error loading script: ${paths[lib]}`);\n",
              "        document.getElementsByTagName(\"head\")[0].appendChild(s);\n",
              "      });\n",
              "    }\n",
              "\n",
              "    function showError(err) {\n",
              "      outputDiv.innerHTML = `<div class=\"error\" style=\"color:red;\">${err}</div>`;\n",
              "      throw err;\n",
              "    }\n",
              "\n",
              "    function displayChart(vegaEmbed) {\n",
              "      vegaEmbed(outputDiv, spec, embedOpt)\n",
              "        .catch(err => showError(`Javascript Error: ${err.message}<br>This usually means there's a typo in your chart specification. See the javascript console for the full traceback.`));\n",
              "    }\n",
              "\n",
              "    if(typeof define === \"function\" && define.amd) {\n",
              "      requirejs.config({paths});\n",
              "      require([\"vega-embed\"], displayChart, err => showError(`Error loading script: ${err.message}`));\n",
              "    } else if (typeof vegaEmbed === \"function\") {\n",
              "      displayChart(vegaEmbed);\n",
              "    } else {\n",
              "      loadScript(\"vega\")\n",
              "        .then(() => loadScript(\"vega-lite\"))\n",
              "        .then(() => loadScript(\"vega-embed\"))\n",
              "        .catch(showError)\n",
              "        .then(() => displayChart(vegaEmbed));\n",
              "    }\n",
              "  })({\"config\": {\"view\": {\"continuousWidth\": 400, \"continuousHeight\": 300}}, \"layer\": [{\"mark\": \"line\", \"encoding\": {\"x\": {\"type\": \"quantitative\", \"field\": \"k\"}, \"y\": {\"type\": \"quantitative\", \"field\": \"Inertia\"}}}, {\"mark\": \"point\", \"encoding\": {\"x\": {\"type\": \"quantitative\", \"field\": \"k\"}, \"y\": {\"type\": \"quantitative\", \"field\": \"Inertia\"}}}], \"data\": {\"name\": \"data-b1a96feeda694e5818caff5776c949fa\"}, \"$schema\": \"https://vega.github.io/schema/vega-lite/v4.8.1.json\", \"datasets\": {\"data-b1a96feeda694e5818caff5776c949fa\": [{\"k\": 1, \"Inertia\": 2066.2855698094913}, {\"k\": 2, \"Inertia\": 1081.659836347474}, {\"k\": 3, \"Inertia\": 583.1818838218853}, {\"k\": 4, \"Inertia\": 107.27820454188053}, {\"k\": 5, \"Inertia\": 94.49412805335103}, {\"k\": 6, \"Inertia\": 84.09933823840078}, {\"k\": 7, \"Inertia\": 75.27706689812706}]}}, {\"mode\": \"vega-lite\"});\n",
              "</script>"
            ]
          },
          "metadata": {},
          "execution_count": 134
        }
      ]
    },
    {
      "cell_type": "markdown",
      "metadata": {
        "id": "7BP0cIOTsOHh"
      },
      "source": [
        "6) I picked a value of 4 for my k when clustering on C and D. Why did I choose that value?\n",
        "\n",
        "Value 4 is good because we still want a low k and as we can see from the graph, low k gives low intertia which can be obtained when k = 4"
      ]
    },
    {
      "cell_type": "markdown",
      "metadata": {
        "id": "6tJpPjPfy-Ad"
      },
      "source": [
        "## Part Three\n",
        "\n",
        "In this part we will re-train our decision tree and random forest models on the clustered data. We have to dummy-code the cluster labels because the label values are random, i.e. cluster zero is not less than cluster one, and if we leave them as is the models will assume the labels are numeric values."
      ]
    },
    {
      "cell_type": "code",
      "metadata": {
        "colab": {
          "base_uri": "https://localhost:8080/",
          "height": 206
        },
        "id": "VM0MoGIY5MEe",
        "outputId": "460433bf-5ed2-4a97-c338-297a1703c40f"
      },
      "source": [
        "# This code creates the clustered dataset\n",
        "\n",
        "# Note that we are clustering on the whole dataset, ideally\n",
        "# you would cluster on just the training data and then apply\n",
        "# those clusters to the testing data.\n",
        "# What we are doing here is fine for the assignment,\n",
        "# but not what you would want to do in a real world context.\n",
        "\n",
        "# Cluster the data\n",
        "km_ab = KMeans(n_clusters=3, random_state=0).fit(raw_df.iloc[:,0:2])\n",
        "km_cd = KMeans(n_clusters=4, random_state=0).fit(raw_df.iloc[:,2:4])\n",
        "\n",
        "# Pull out the labels and ensure they are of type category\n",
        "# For get_dummies to work it needs categorical data\n",
        "ab_labels = pd.Series(km_ab.labels_).astype('category')\n",
        "cd_labels = pd.Series(km_cd.labels_).astype('category')\n",
        "class_labels = raw_df['Z'].astype('category')\n",
        "\n",
        "# Create the dataset with dummy-coded cluster columns and our\n",
        "# class labels (which are not dummy-coded)\n",
        "clustered_df = pd.DataFrame({\"AB\":ab_labels, \"CD\":cd_labels})\n",
        "clustered_df = pd.get_dummies(clustered_df)\n",
        "clustered_df['Z'] = class_labels\n",
        "clustered_df.head()"
      ],
      "execution_count": null,
      "outputs": [
        {
          "output_type": "execute_result",
          "data": {
            "text/html": [
              "<div>\n",
              "<style scoped>\n",
              "    .dataframe tbody tr th:only-of-type {\n",
              "        vertical-align: middle;\n",
              "    }\n",
              "\n",
              "    .dataframe tbody tr th {\n",
              "        vertical-align: top;\n",
              "    }\n",
              "\n",
              "    .dataframe thead th {\n",
              "        text-align: right;\n",
              "    }\n",
              "</style>\n",
              "<table border=\"1\" class=\"dataframe\">\n",
              "  <thead>\n",
              "    <tr style=\"text-align: right;\">\n",
              "      <th></th>\n",
              "      <th>AB_0</th>\n",
              "      <th>AB_1</th>\n",
              "      <th>AB_2</th>\n",
              "      <th>CD_0</th>\n",
              "      <th>CD_1</th>\n",
              "      <th>CD_2</th>\n",
              "      <th>CD_3</th>\n",
              "      <th>Z</th>\n",
              "    </tr>\n",
              "  </thead>\n",
              "  <tbody>\n",
              "    <tr>\n",
              "      <th>0</th>\n",
              "      <td>1</td>\n",
              "      <td>0</td>\n",
              "      <td>0</td>\n",
              "      <td>0</td>\n",
              "      <td>0</td>\n",
              "      <td>0</td>\n",
              "      <td>1</td>\n",
              "      <td>0</td>\n",
              "    </tr>\n",
              "    <tr>\n",
              "      <th>1</th>\n",
              "      <td>1</td>\n",
              "      <td>0</td>\n",
              "      <td>0</td>\n",
              "      <td>0</td>\n",
              "      <td>0</td>\n",
              "      <td>0</td>\n",
              "      <td>1</td>\n",
              "      <td>0</td>\n",
              "    </tr>\n",
              "    <tr>\n",
              "      <th>2</th>\n",
              "      <td>1</td>\n",
              "      <td>0</td>\n",
              "      <td>0</td>\n",
              "      <td>0</td>\n",
              "      <td>0</td>\n",
              "      <td>0</td>\n",
              "      <td>1</td>\n",
              "      <td>0</td>\n",
              "    </tr>\n",
              "    <tr>\n",
              "      <th>3</th>\n",
              "      <td>1</td>\n",
              "      <td>0</td>\n",
              "      <td>0</td>\n",
              "      <td>0</td>\n",
              "      <td>0</td>\n",
              "      <td>0</td>\n",
              "      <td>1</td>\n",
              "      <td>0</td>\n",
              "    </tr>\n",
              "    <tr>\n",
              "      <th>4</th>\n",
              "      <td>1</td>\n",
              "      <td>0</td>\n",
              "      <td>0</td>\n",
              "      <td>0</td>\n",
              "      <td>0</td>\n",
              "      <td>0</td>\n",
              "      <td>1</td>\n",
              "      <td>0</td>\n",
              "    </tr>\n",
              "  </tbody>\n",
              "</table>\n",
              "</div>"
            ],
            "text/plain": [
              "   AB_0  AB_1  AB_2  CD_0  CD_1  CD_2  CD_3  Z\n",
              "0     1     0     0     0     0     0     1  0\n",
              "1     1     0     0     0     0     0     1  0\n",
              "2     1     0     0     0     0     0     1  0\n",
              "3     1     0     0     0     0     0     1  0\n",
              "4     1     0     0     0     0     0     1  0"
            ]
          },
          "metadata": {},
          "execution_count": 135
        }
      ]
    },
    {
      "cell_type": "code",
      "metadata": {
        "id": "PxutwVuWgC-7"
      },
      "source": [
        "# Create training and test sets\n",
        "training_set, test_set = train_test_split(clustered_df, test_size=0.20, random_state=8)\n",
        "\n",
        "# Use all of the features, excluding Outcome at the end\n",
        "training_features = training_set.iloc[:,:-1]\n",
        "# Targets are at the end\n",
        "training_targets = training_set.iloc[:,-1]\n",
        "\n",
        "# Pull out the same features and targets from test set\n",
        "testing_features = test_set.iloc[:,:-1]\n",
        "testing_targets = test_set.iloc[:,-1]"
      ],
      "execution_count": null,
      "outputs": []
    },
    {
      "cell_type": "markdown",
      "metadata": {
        "id": "_2UcXltnsZPR"
      },
      "source": [
        "1) Train a decision tree classifier, with ccp_apha=0.01, on the on the new clustered training data and evaluate it using the score method on the new testing data. Again, no need to use cross-validation.\n",
        "\n",
        "How does your decision tree's performance compare to the earlier decision tree that trained on the unclustered data?"
      ]
    },
    {
      "cell_type": "code",
      "metadata": {
        "id": "bPZAL5Eof8MD",
        "colab": {
          "base_uri": "https://localhost:8080/"
        },
        "outputId": "6cdd3226-fb4c-4879-e571-fd52f02d2717"
      },
      "source": [
        "dt_model = DecisionTreeClassifier(ccp_alpha=0.01)\n",
        "dt_model.fit(training_features, training_targets)\n",
        "dt_model.score(testing_features, testing_targets)"
      ],
      "execution_count": null,
      "outputs": [
        {
          "output_type": "execute_result",
          "data": {
            "text/plain": [
              "0.9583333333333334"
            ]
          },
          "metadata": {},
          "execution_count": 137
        }
      ]
    },
    {
      "cell_type": "markdown",
      "metadata": {
        "id": "wS2ggw3Svai9"
      },
      "source": [
        "2) Run the code below after training your decision tree to output the tree structure (change dt_model to whatever variable holds your tree). \n",
        "\n",
        "Find each of the paths through the tree. Remember that the arrow going left is the True path and the arrow going right is the False path. The decision tree boundaries are always <= boundaries, which for our dummy-coded data indicates absence. For example, AB_1 <= 0.5 is true for data that does not fall into cluster 1 of the AB clusters, essentially not AB_1. \n",
        "\n",
        "List the paths in logical notation with ~ indicating not, e.g. ~AB_1 & CD_3 & ~AB_2 -> Z_0 where Z_0 indicates class equals 0."
      ]
    },
    {
      "cell_type": "code",
      "metadata": {
        "id": "iHuwEXqXgscO",
        "colab": {
          "base_uri": "https://localhost:8080/",
          "height": 398
        },
        "outputId": "1d95cff5-a9db-4460-c904-d6c1a06463f3"
      },
      "source": [
        "# Run this code after training your decision tree to output it.\n",
        "plt.figure(figsize=(20,12))\n",
        "plot_tree(dt_model, feature_names=clustered_df.columns[:-1], class_names=['0','1'])\n",
        "plt.show()"
      ],
      "execution_count": null,
      "outputs": [
        {
          "output_type": "display_data",
          "data": {
            "image/png": "[encoded data removed]",
            "text/plain": [
              "<Figure size 1440x864 with 1 Axes>"
            ]
          },
          "metadata": {
            "needs_background": "light"
          }
        }
      ]
    },
    {
      "cell_type": "markdown",
      "metadata": {
        "id": "l5G-g_GGYXQA"
      },
      "source": [
        "~AB_1 -> Z_0\n",
        "\n",
        "AB_1 & ~CD_3 & AB_2 -> Z_0\n",
        "\n",
        "AB_1 & CD_3 & ~CD_2 -> Z_0\n",
        "\n",
        "AB_1 & ~CD_3 & ~AB_2 -> Z_1\n",
        "\n",
        "AB_1 & CD_3 & CD_2 -> Z_1"
      ]
    },
    {
      "cell_type": "markdown",
      "metadata": {
        "id": "nwkGcrZPthVh"
      },
      "source": [
        "3) Train a random forest classifier, with ccp_apha=0.01, on the on the new clustered training data and evaluate it using the score method on the new testing data. Again, no need to use cross-validation.\n",
        "\n",
        "How does your random forest's performance compare to the earlier decision tree that trained on the unclustered data?\n",
        "\n",
        "How does it compare to the decision tree trained on the clustered data?"
      ]
    },
    {
      "cell_type": "code",
      "metadata": {
        "id": "b-u34pZHkmGO",
        "colab": {
          "base_uri": "https://localhost:8080/"
        },
        "outputId": "ce6623eb-2630-4a30-b27e-780e63f3e686"
      },
      "source": [
        "rf_model = RandomForestClassifier(ccp_alpha=0.01)\n",
        "rf_model.fit(training_features, training_targets)\n",
        "rf_model.score(testing_features, testing_targets)"
      ],
      "execution_count": null,
      "outputs": [
        {
          "output_type": "execute_result",
          "data": {
            "text/plain": [
              "0.9583333333333334"
            ]
          },
          "metadata": {},
          "execution_count": 139
        }
      ]
    },
    {
      "cell_type": "markdown",
      "metadata": {
        "id": "Fp4uckNSU3k6"
      },
      "source": [
        "This score is higher than the one earlier on the unclustered data.\n",
        "This score is the same as the decision ree trained on the clustered data."
      ]
    },
    {
      "cell_type": "markdown",
      "metadata": {
        "id": "V-t6w4HPtw5B"
      },
      "source": [
        "## Part Four\n",
        "\n",
        "This last part looks at the clustered data set using association rules mining. Since the clustering rendered our data categorical, it is now suitable for association rules."
      ]
    },
    {
      "cell_type": "code",
      "metadata": {
        "colab": {
          "base_uri": "https://localhost:8080/",
          "height": 206
        },
        "id": "IB7gMQF3t3E8",
        "outputId": "f05d7969-1bed-43f8-89bb-9da71cb145b1"
      },
      "source": [
        "# Create fully dummy coded data for association rules.\n",
        "# We have to also cluster the class labels here so that both\n",
        "# class labels show up in our itemsets.\n",
        "\n",
        "# This code uses the labels that we created earlier when clustering\n",
        "dummies_df = pd.DataFrame({\"AB\":ab_labels, \"CD\":cd_labels, \"Z\":class_labels})\n",
        "dummies_df = pd.get_dummies(clustered_df)\n",
        "dummies_df.head()"
      ],
      "execution_count": null,
      "outputs": [
        {
          "output_type": "execute_result",
          "data": {
            "text/html": [
              "<div>\n",
              "<style scoped>\n",
              "    .dataframe tbody tr th:only-of-type {\n",
              "        vertical-align: middle;\n",
              "    }\n",
              "\n",
              "    .dataframe tbody tr th {\n",
              "        vertical-align: top;\n",
              "    }\n",
              "\n",
              "    .dataframe thead th {\n",
              "        text-align: right;\n",
              "    }\n",
              "</style>\n",
              "<table border=\"1\" class=\"dataframe\">\n",
              "  <thead>\n",
              "    <tr style=\"text-align: right;\">\n",
              "      <th></th>\n",
              "      <th>AB_0</th>\n",
              "      <th>AB_1</th>\n",
              "      <th>AB_2</th>\n",
              "      <th>CD_0</th>\n",
              "      <th>CD_1</th>\n",
              "      <th>CD_2</th>\n",
              "      <th>CD_3</th>\n",
              "      <th>Z_0</th>\n",
              "      <th>Z_1</th>\n",
              "    </tr>\n",
              "  </thead>\n",
              "  <tbody>\n",
              "    <tr>\n",
              "      <th>0</th>\n",
              "      <td>1</td>\n",
              "      <td>0</td>\n",
              "      <td>0</td>\n",
              "      <td>0</td>\n",
              "      <td>0</td>\n",
              "      <td>0</td>\n",
              "      <td>1</td>\n",
              "      <td>1</td>\n",
              "      <td>0</td>\n",
              "    </tr>\n",
              "    <tr>\n",
              "      <th>1</th>\n",
              "      <td>1</td>\n",
              "      <td>0</td>\n",
              "      <td>0</td>\n",
              "      <td>0</td>\n",
              "      <td>0</td>\n",
              "      <td>0</td>\n",
              "      <td>1</td>\n",
              "      <td>1</td>\n",
              "      <td>0</td>\n",
              "    </tr>\n",
              "    <tr>\n",
              "      <th>2</th>\n",
              "      <td>1</td>\n",
              "      <td>0</td>\n",
              "      <td>0</td>\n",
              "      <td>0</td>\n",
              "      <td>0</td>\n",
              "      <td>0</td>\n",
              "      <td>1</td>\n",
              "      <td>1</td>\n",
              "      <td>0</td>\n",
              "    </tr>\n",
              "    <tr>\n",
              "      <th>3</th>\n",
              "      <td>1</td>\n",
              "      <td>0</td>\n",
              "      <td>0</td>\n",
              "      <td>0</td>\n",
              "      <td>0</td>\n",
              "      <td>0</td>\n",
              "      <td>1</td>\n",
              "      <td>1</td>\n",
              "      <td>0</td>\n",
              "    </tr>\n",
              "    <tr>\n",
              "      <th>4</th>\n",
              "      <td>1</td>\n",
              "      <td>0</td>\n",
              "      <td>0</td>\n",
              "      <td>0</td>\n",
              "      <td>0</td>\n",
              "      <td>0</td>\n",
              "      <td>1</td>\n",
              "      <td>1</td>\n",
              "      <td>0</td>\n",
              "    </tr>\n",
              "  </tbody>\n",
              "</table>\n",
              "</div>"
            ],
            "text/plain": [
              "   AB_0  AB_1  AB_2  CD_0  CD_1  CD_2  CD_3  Z_0  Z_1\n",
              "0     1     0     0     0     0     0     1    1    0\n",
              "1     1     0     0     0     0     0     1    1    0\n",
              "2     1     0     0     0     0     0     1    1    0\n",
              "3     1     0     0     0     0     0     1    1    0\n",
              "4     1     0     0     0     0     0     1    1    0"
            ]
          },
          "metadata": {},
          "execution_count": 140
        }
      ]
    },
    {
      "cell_type": "markdown",
      "metadata": {
        "id": "n-ucUKNM0UQT"
      },
      "source": [
        "1) Find the rules that have a minimum support of 0.05 and a minimum confidence of 0.75."
      ]
    },
    {
      "cell_type": "code",
      "metadata": {
        "id": "XtnxwqVdvHq6",
        "colab": {
          "base_uri": "https://localhost:8080/",
          "height": 943
        },
        "outputId": "d0a43b25-2ec4-4ed4-e16e-a90e08d343d6"
      },
      "source": [
        "frequent_itemsets = apriori(dummies_df, min_support = 0.05, use_colnames = True)\n",
        "rules = association_rules(frequent_itemsets, metric = \"confidence\", min_threshold = 0.75)\n",
        "rules"
      ],
      "execution_count": null,
      "outputs": [
        {
          "output_type": "execute_result",
          "data": {
            "text/html": [
              "<div>\n",
              "<style scoped>\n",
              "    .dataframe tbody tr th:only-of-type {\n",
              "        vertical-align: middle;\n",
              "    }\n",
              "\n",
              "    .dataframe tbody tr th {\n",
              "        vertical-align: top;\n",
              "    }\n",
              "\n",
              "    .dataframe thead th {\n",
              "        text-align: right;\n",
              "    }\n",
              "</style>\n",
              "<table border=\"1\" class=\"dataframe\">\n",
              "  <thead>\n",
              "    <tr style=\"text-align: right;\">\n",
              "      <th></th>\n",
              "      <th>antecedents</th>\n",
              "      <th>consequents</th>\n",
              "      <th>antecedent support</th>\n",
              "      <th>consequent support</th>\n",
              "      <th>support</th>\n",
              "      <th>confidence</th>\n",
              "      <th>lift</th>\n",
              "      <th>leverage</th>\n",
              "      <th>conviction</th>\n",
              "    </tr>\n",
              "  </thead>\n",
              "  <tbody>\n",
              "    <tr>\n",
              "      <th>0</th>\n",
              "      <td>(CD_3)</td>\n",
              "      <td>(AB_0)</td>\n",
              "      <td>0.250000</td>\n",
              "      <td>0.320833</td>\n",
              "      <td>0.237500</td>\n",
              "      <td>0.950000</td>\n",
              "      <td>2.961039</td>\n",
              "      <td>0.157292</td>\n",
              "      <td>13.583333</td>\n",
              "    </tr>\n",
              "    <tr>\n",
              "      <th>1</th>\n",
              "      <td>(AB_0)</td>\n",
              "      <td>(Z_0)</td>\n",
              "      <td>0.320833</td>\n",
              "      <td>0.495833</td>\n",
              "      <td>0.312500</td>\n",
              "      <td>0.974026</td>\n",
              "      <td>1.964422</td>\n",
              "      <td>0.153420</td>\n",
              "      <td>19.410417</td>\n",
              "    </tr>\n",
              "    <tr>\n",
              "      <th>2</th>\n",
              "      <td>(CD_1)</td>\n",
              "      <td>(AB_1)</td>\n",
              "      <td>0.250000</td>\n",
              "      <td>0.291667</td>\n",
              "      <td>0.216667</td>\n",
              "      <td>0.866667</td>\n",
              "      <td>2.971429</td>\n",
              "      <td>0.143750</td>\n",
              "      <td>5.312500</td>\n",
              "    </tr>\n",
              "    <tr>\n",
              "      <th>3</th>\n",
              "      <td>(AB_1)</td>\n",
              "      <td>(Z_1)</td>\n",
              "      <td>0.291667</td>\n",
              "      <td>0.504167</td>\n",
              "      <td>0.283333</td>\n",
              "      <td>0.971429</td>\n",
              "      <td>1.926800</td>\n",
              "      <td>0.136285</td>\n",
              "      <td>17.354167</td>\n",
              "    </tr>\n",
              "    <tr>\n",
              "      <th>4</th>\n",
              "      <td>(CD_1)</td>\n",
              "      <td>(Z_1)</td>\n",
              "      <td>0.250000</td>\n",
              "      <td>0.504167</td>\n",
              "      <td>0.250000</td>\n",
              "      <td>1.000000</td>\n",
              "      <td>1.983471</td>\n",
              "      <td>0.123958</td>\n",
              "      <td>inf</td>\n",
              "    </tr>\n",
              "    <tr>\n",
              "      <th>5</th>\n",
              "      <td>(CD_3)</td>\n",
              "      <td>(Z_0)</td>\n",
              "      <td>0.250000</td>\n",
              "      <td>0.495833</td>\n",
              "      <td>0.250000</td>\n",
              "      <td>1.000000</td>\n",
              "      <td>2.016807</td>\n",
              "      <td>0.126042</td>\n",
              "      <td>inf</td>\n",
              "    </tr>\n",
              "    <tr>\n",
              "      <th>6</th>\n",
              "      <td>(AB_0, CD_2)</td>\n",
              "      <td>(Z_0)</td>\n",
              "      <td>0.079167</td>\n",
              "      <td>0.495833</td>\n",
              "      <td>0.070833</td>\n",
              "      <td>0.894737</td>\n",
              "      <td>1.804511</td>\n",
              "      <td>0.031580</td>\n",
              "      <td>4.789583</td>\n",
              "    </tr>\n",
              "    <tr>\n",
              "      <th>7</th>\n",
              "      <td>(CD_2, Z_0)</td>\n",
              "      <td>(AB_0)</td>\n",
              "      <td>0.075000</td>\n",
              "      <td>0.320833</td>\n",
              "      <td>0.070833</td>\n",
              "      <td>0.944444</td>\n",
              "      <td>2.943723</td>\n",
              "      <td>0.046771</td>\n",
              "      <td>12.225000</td>\n",
              "    </tr>\n",
              "    <tr>\n",
              "      <th>8</th>\n",
              "      <td>(AB_0, Z_0)</td>\n",
              "      <td>(CD_3)</td>\n",
              "      <td>0.312500</td>\n",
              "      <td>0.250000</td>\n",
              "      <td>0.237500</td>\n",
              "      <td>0.760000</td>\n",
              "      <td>3.040000</td>\n",
              "      <td>0.159375</td>\n",
              "      <td>3.125000</td>\n",
              "    </tr>\n",
              "    <tr>\n",
              "      <th>9</th>\n",
              "      <td>(AB_0, CD_3)</td>\n",
              "      <td>(Z_0)</td>\n",
              "      <td>0.237500</td>\n",
              "      <td>0.495833</td>\n",
              "      <td>0.237500</td>\n",
              "      <td>1.000000</td>\n",
              "      <td>2.016807</td>\n",
              "      <td>0.119740</td>\n",
              "      <td>inf</td>\n",
              "    </tr>\n",
              "    <tr>\n",
              "      <th>10</th>\n",
              "      <td>(CD_3, Z_0)</td>\n",
              "      <td>(AB_0)</td>\n",
              "      <td>0.250000</td>\n",
              "      <td>0.320833</td>\n",
              "      <td>0.237500</td>\n",
              "      <td>0.950000</td>\n",
              "      <td>2.961039</td>\n",
              "      <td>0.157292</td>\n",
              "      <td>13.583333</td>\n",
              "    </tr>\n",
              "    <tr>\n",
              "      <th>11</th>\n",
              "      <td>(CD_3)</td>\n",
              "      <td>(AB_0, Z_0)</td>\n",
              "      <td>0.250000</td>\n",
              "      <td>0.312500</td>\n",
              "      <td>0.237500</td>\n",
              "      <td>0.950000</td>\n",
              "      <td>3.040000</td>\n",
              "      <td>0.159375</td>\n",
              "      <td>13.750000</td>\n",
              "    </tr>\n",
              "    <tr>\n",
              "      <th>12</th>\n",
              "      <td>(Z_1, CD_0)</td>\n",
              "      <td>(AB_1)</td>\n",
              "      <td>0.079167</td>\n",
              "      <td>0.291667</td>\n",
              "      <td>0.066667</td>\n",
              "      <td>0.842105</td>\n",
              "      <td>2.887218</td>\n",
              "      <td>0.043576</td>\n",
              "      <td>4.486111</td>\n",
              "    </tr>\n",
              "    <tr>\n",
              "      <th>13</th>\n",
              "      <td>(AB_1, CD_0)</td>\n",
              "      <td>(Z_1)</td>\n",
              "      <td>0.075000</td>\n",
              "      <td>0.504167</td>\n",
              "      <td>0.066667</td>\n",
              "      <td>0.888889</td>\n",
              "      <td>1.763085</td>\n",
              "      <td>0.028854</td>\n",
              "      <td>4.462500</td>\n",
              "    </tr>\n",
              "    <tr>\n",
              "      <th>14</th>\n",
              "      <td>(Z_1, AB_1)</td>\n",
              "      <td>(CD_1)</td>\n",
              "      <td>0.283333</td>\n",
              "      <td>0.250000</td>\n",
              "      <td>0.216667</td>\n",
              "      <td>0.764706</td>\n",
              "      <td>3.058824</td>\n",
              "      <td>0.145833</td>\n",
              "      <td>3.187500</td>\n",
              "    </tr>\n",
              "    <tr>\n",
              "      <th>15</th>\n",
              "      <td>(Z_1, CD_1)</td>\n",
              "      <td>(AB_1)</td>\n",
              "      <td>0.250000</td>\n",
              "      <td>0.291667</td>\n",
              "      <td>0.216667</td>\n",
              "      <td>0.866667</td>\n",
              "      <td>2.971429</td>\n",
              "      <td>0.143750</td>\n",
              "      <td>5.312500</td>\n",
              "    </tr>\n",
              "    <tr>\n",
              "      <th>16</th>\n",
              "      <td>(AB_1, CD_1)</td>\n",
              "      <td>(Z_1)</td>\n",
              "      <td>0.216667</td>\n",
              "      <td>0.504167</td>\n",
              "      <td>0.216667</td>\n",
              "      <td>1.000000</td>\n",
              "      <td>1.983471</td>\n",
              "      <td>0.107431</td>\n",
              "      <td>inf</td>\n",
              "    </tr>\n",
              "    <tr>\n",
              "      <th>17</th>\n",
              "      <td>(CD_1)</td>\n",
              "      <td>(Z_1, AB_1)</td>\n",
              "      <td>0.250000</td>\n",
              "      <td>0.283333</td>\n",
              "      <td>0.216667</td>\n",
              "      <td>0.866667</td>\n",
              "      <td>3.058824</td>\n",
              "      <td>0.145833</td>\n",
              "      <td>5.375000</td>\n",
              "    </tr>\n",
              "    <tr>\n",
              "      <th>18</th>\n",
              "      <td>(CD_0, Z_0)</td>\n",
              "      <td>(AB_2)</td>\n",
              "      <td>0.170833</td>\n",
              "      <td>0.387500</td>\n",
              "      <td>0.158333</td>\n",
              "      <td>0.926829</td>\n",
              "      <td>2.391817</td>\n",
              "      <td>0.092135</td>\n",
              "      <td>8.370833</td>\n",
              "    </tr>\n",
              "    <tr>\n",
              "      <th>19</th>\n",
              "      <td>(Z_0, AB_2)</td>\n",
              "      <td>(CD_0)</td>\n",
              "      <td>0.175000</td>\n",
              "      <td>0.250000</td>\n",
              "      <td>0.158333</td>\n",
              "      <td>0.904762</td>\n",
              "      <td>3.619048</td>\n",
              "      <td>0.114583</td>\n",
              "      <td>7.875000</td>\n",
              "    </tr>\n",
              "    <tr>\n",
              "      <th>20</th>\n",
              "      <td>(CD_0, AB_2)</td>\n",
              "      <td>(Z_0)</td>\n",
              "      <td>0.170833</td>\n",
              "      <td>0.495833</td>\n",
              "      <td>0.158333</td>\n",
              "      <td>0.926829</td>\n",
              "      <td>1.869235</td>\n",
              "      <td>0.073628</td>\n",
              "      <td>6.890278</td>\n",
              "    </tr>\n",
              "    <tr>\n",
              "      <th>21</th>\n",
              "      <td>(Z_1, CD_2)</td>\n",
              "      <td>(AB_2)</td>\n",
              "      <td>0.175000</td>\n",
              "      <td>0.387500</td>\n",
              "      <td>0.166667</td>\n",
              "      <td>0.952381</td>\n",
              "      <td>2.457757</td>\n",
              "      <td>0.098854</td>\n",
              "      <td>12.862500</td>\n",
              "    </tr>\n",
              "    <tr>\n",
              "      <th>22</th>\n",
              "      <td>(Z_1, AB_2)</td>\n",
              "      <td>(CD_2)</td>\n",
              "      <td>0.212500</td>\n",
              "      <td>0.250000</td>\n",
              "      <td>0.166667</td>\n",
              "      <td>0.784314</td>\n",
              "      <td>3.137255</td>\n",
              "      <td>0.113542</td>\n",
              "      <td>3.477273</td>\n",
              "    </tr>\n",
              "    <tr>\n",
              "      <th>23</th>\n",
              "      <td>(CD_2, AB_2)</td>\n",
              "      <td>(Z_1)</td>\n",
              "      <td>0.170833</td>\n",
              "      <td>0.504167</td>\n",
              "      <td>0.166667</td>\n",
              "      <td>0.975610</td>\n",
              "      <td>1.935094</td>\n",
              "      <td>0.080538</td>\n",
              "      <td>20.329167</td>\n",
              "    </tr>\n",
              "  </tbody>\n",
              "</table>\n",
              "</div>"
            ],
            "text/plain": [
              "     antecedents  consequents  ...  leverage  conviction\n",
              "0         (CD_3)       (AB_0)  ...  0.157292   13.583333\n",
              "1         (AB_0)        (Z_0)  ...  0.153420   19.410417\n",
              "2         (CD_1)       (AB_1)  ...  0.143750    5.312500\n",
              "3         (AB_1)        (Z_1)  ...  0.136285   17.354167\n",
              "4         (CD_1)        (Z_1)  ...  0.123958         inf\n",
              "5         (CD_3)        (Z_0)  ...  0.126042         inf\n",
              "6   (AB_0, CD_2)        (Z_0)  ...  0.031580    4.789583\n",
              "7    (CD_2, Z_0)       (AB_0)  ...  0.046771   12.225000\n",
              "8    (AB_0, Z_0)       (CD_3)  ...  0.159375    3.125000\n",
              "9   (AB_0, CD_3)        (Z_0)  ...  0.119740         inf\n",
              "10   (CD_3, Z_0)       (AB_0)  ...  0.157292   13.583333\n",
              "11        (CD_3)  (AB_0, Z_0)  ...  0.159375   13.750000\n",
              "12   (Z_1, CD_0)       (AB_1)  ...  0.043576    4.486111\n",
              "13  (AB_1, CD_0)        (Z_1)  ...  0.028854    4.462500\n",
              "14   (Z_1, AB_1)       (CD_1)  ...  0.145833    3.187500\n",
              "15   (Z_1, CD_1)       (AB_1)  ...  0.143750    5.312500\n",
              "16  (AB_1, CD_1)        (Z_1)  ...  0.107431         inf\n",
              "17        (CD_1)  (Z_1, AB_1)  ...  0.145833    5.375000\n",
              "18   (CD_0, Z_0)       (AB_2)  ...  0.092135    8.370833\n",
              "19   (Z_0, AB_2)       (CD_0)  ...  0.114583    7.875000\n",
              "20  (CD_0, AB_2)        (Z_0)  ...  0.073628    6.890278\n",
              "21   (Z_1, CD_2)       (AB_2)  ...  0.098854   12.862500\n",
              "22   (Z_1, AB_2)       (CD_2)  ...  0.113542    3.477273\n",
              "23  (CD_2, AB_2)        (Z_1)  ...  0.080538   20.329167\n",
              "\n",
              "[24 rows x 9 columns]"
            ]
          },
          "metadata": {},
          "execution_count": 141
        }
      ]
    },
    {
      "cell_type": "markdown",
      "metadata": {
        "id": "0ptHBFuu0hC5"
      },
      "source": [
        "2) Pull out the rules whose consequents are Z_1 or Z_0. You can do this in two calls if you like."
      ]
    },
    {
      "cell_type": "code",
      "metadata": {
        "id": "60bV3u1Tw6nf",
        "colab": {
          "base_uri": "https://localhost:8080/",
          "height": 295
        },
        "outputId": "802bd0d6-7c28-4a1f-f1a1-8d8fb45f78a4"
      },
      "source": [
        "rules[rules['consequents'] == {'Z_1'}]"
      ],
      "execution_count": null,
      "outputs": [
        {
          "output_type": "execute_result",
          "data": {
            "text/html": [
              "<div>\n",
              "<style scoped>\n",
              "    .dataframe tbody tr th:only-of-type {\n",
              "        vertical-align: middle;\n",
              "    }\n",
              "\n",
              "    .dataframe tbody tr th {\n",
              "        vertical-align: top;\n",
              "    }\n",
              "\n",
              "    .dataframe thead th {\n",
              "        text-align: right;\n",
              "    }\n",
              "</style>\n",
              "<table border=\"1\" class=\"dataframe\">\n",
              "  <thead>\n",
              "    <tr style=\"text-align: right;\">\n",
              "      <th></th>\n",
              "      <th>antecedents</th>\n",
              "      <th>consequents</th>\n",
              "      <th>antecedent support</th>\n",
              "      <th>consequent support</th>\n",
              "      <th>support</th>\n",
              "      <th>confidence</th>\n",
              "      <th>lift</th>\n",
              "      <th>leverage</th>\n",
              "      <th>conviction</th>\n",
              "    </tr>\n",
              "  </thead>\n",
              "  <tbody>\n",
              "    <tr>\n",
              "      <th>3</th>\n",
              "      <td>(AB_1)</td>\n",
              "      <td>(Z_1)</td>\n",
              "      <td>0.291667</td>\n",
              "      <td>0.504167</td>\n",
              "      <td>0.283333</td>\n",
              "      <td>0.971429</td>\n",
              "      <td>1.926800</td>\n",
              "      <td>0.136285</td>\n",
              "      <td>17.354167</td>\n",
              "    </tr>\n",
              "    <tr>\n",
              "      <th>4</th>\n",
              "      <td>(CD_1)</td>\n",
              "      <td>(Z_1)</td>\n",
              "      <td>0.250000</td>\n",
              "      <td>0.504167</td>\n",
              "      <td>0.250000</td>\n",
              "      <td>1.000000</td>\n",
              "      <td>1.983471</td>\n",
              "      <td>0.123958</td>\n",
              "      <td>inf</td>\n",
              "    </tr>\n",
              "    <tr>\n",
              "      <th>13</th>\n",
              "      <td>(AB_1, CD_0)</td>\n",
              "      <td>(Z_1)</td>\n",
              "      <td>0.075000</td>\n",
              "      <td>0.504167</td>\n",
              "      <td>0.066667</td>\n",
              "      <td>0.888889</td>\n",
              "      <td>1.763085</td>\n",
              "      <td>0.028854</td>\n",
              "      <td>4.462500</td>\n",
              "    </tr>\n",
              "    <tr>\n",
              "      <th>16</th>\n",
              "      <td>(AB_1, CD_1)</td>\n",
              "      <td>(Z_1)</td>\n",
              "      <td>0.216667</td>\n",
              "      <td>0.504167</td>\n",
              "      <td>0.216667</td>\n",
              "      <td>1.000000</td>\n",
              "      <td>1.983471</td>\n",
              "      <td>0.107431</td>\n",
              "      <td>inf</td>\n",
              "    </tr>\n",
              "    <tr>\n",
              "      <th>23</th>\n",
              "      <td>(CD_2, AB_2)</td>\n",
              "      <td>(Z_1)</td>\n",
              "      <td>0.170833</td>\n",
              "      <td>0.504167</td>\n",
              "      <td>0.166667</td>\n",
              "      <td>0.975610</td>\n",
              "      <td>1.935094</td>\n",
              "      <td>0.080538</td>\n",
              "      <td>20.329167</td>\n",
              "    </tr>\n",
              "  </tbody>\n",
              "</table>\n",
              "</div>"
            ],
            "text/plain": [
              "     antecedents consequents  ...  leverage  conviction\n",
              "3         (AB_1)       (Z_1)  ...  0.136285   17.354167\n",
              "4         (CD_1)       (Z_1)  ...  0.123958         inf\n",
              "13  (AB_1, CD_0)       (Z_1)  ...  0.028854    4.462500\n",
              "16  (AB_1, CD_1)       (Z_1)  ...  0.107431         inf\n",
              "23  (CD_2, AB_2)       (Z_1)  ...  0.080538   20.329167\n",
              "\n",
              "[5 rows x 9 columns]"
            ]
          },
          "metadata": {},
          "execution_count": 142
        }
      ]
    },
    {
      "cell_type": "code",
      "metadata": {
        "colab": {
          "base_uri": "https://localhost:8080/",
          "height": 295
        },
        "id": "qwSBT_v5Vt0I",
        "outputId": "c96ad941-f74f-4596-e039-63819086d6db"
      },
      "source": [
        "rules[rules['consequents'] == {'Z_0'}]"
      ],
      "execution_count": null,
      "outputs": [
        {
          "output_type": "execute_result",
          "data": {
            "text/html": [
              "<div>\n",
              "<style scoped>\n",
              "    .dataframe tbody tr th:only-of-type {\n",
              "        vertical-align: middle;\n",
              "    }\n",
              "\n",
              "    .dataframe tbody tr th {\n",
              "        vertical-align: top;\n",
              "    }\n",
              "\n",
              "    .dataframe thead th {\n",
              "        text-align: right;\n",
              "    }\n",
              "</style>\n",
              "<table border=\"1\" class=\"dataframe\">\n",
              "  <thead>\n",
              "    <tr style=\"text-align: right;\">\n",
              "      <th></th>\n",
              "      <th>antecedents</th>\n",
              "      <th>consequents</th>\n",
              "      <th>antecedent support</th>\n",
              "      <th>consequent support</th>\n",
              "      <th>support</th>\n",
              "      <th>confidence</th>\n",
              "      <th>lift</th>\n",
              "      <th>leverage</th>\n",
              "      <th>conviction</th>\n",
              "    </tr>\n",
              "  </thead>\n",
              "  <tbody>\n",
              "    <tr>\n",
              "      <th>1</th>\n",
              "      <td>(AB_0)</td>\n",
              "      <td>(Z_0)</td>\n",
              "      <td>0.320833</td>\n",
              "      <td>0.495833</td>\n",
              "      <td>0.312500</td>\n",
              "      <td>0.974026</td>\n",
              "      <td>1.964422</td>\n",
              "      <td>0.153420</td>\n",
              "      <td>19.410417</td>\n",
              "    </tr>\n",
              "    <tr>\n",
              "      <th>5</th>\n",
              "      <td>(CD_3)</td>\n",
              "      <td>(Z_0)</td>\n",
              "      <td>0.250000</td>\n",
              "      <td>0.495833</td>\n",
              "      <td>0.250000</td>\n",
              "      <td>1.000000</td>\n",
              "      <td>2.016807</td>\n",
              "      <td>0.126042</td>\n",
              "      <td>inf</td>\n",
              "    </tr>\n",
              "    <tr>\n",
              "      <th>6</th>\n",
              "      <td>(AB_0, CD_2)</td>\n",
              "      <td>(Z_0)</td>\n",
              "      <td>0.079167</td>\n",
              "      <td>0.495833</td>\n",
              "      <td>0.070833</td>\n",
              "      <td>0.894737</td>\n",
              "      <td>1.804511</td>\n",
              "      <td>0.031580</td>\n",
              "      <td>4.789583</td>\n",
              "    </tr>\n",
              "    <tr>\n",
              "      <th>9</th>\n",
              "      <td>(AB_0, CD_3)</td>\n",
              "      <td>(Z_0)</td>\n",
              "      <td>0.237500</td>\n",
              "      <td>0.495833</td>\n",
              "      <td>0.237500</td>\n",
              "      <td>1.000000</td>\n",
              "      <td>2.016807</td>\n",
              "      <td>0.119740</td>\n",
              "      <td>inf</td>\n",
              "    </tr>\n",
              "    <tr>\n",
              "      <th>20</th>\n",
              "      <td>(CD_0, AB_2)</td>\n",
              "      <td>(Z_0)</td>\n",
              "      <td>0.170833</td>\n",
              "      <td>0.495833</td>\n",
              "      <td>0.158333</td>\n",
              "      <td>0.926829</td>\n",
              "      <td>1.869235</td>\n",
              "      <td>0.073628</td>\n",
              "      <td>6.890278</td>\n",
              "    </tr>\n",
              "  </tbody>\n",
              "</table>\n",
              "</div>"
            ],
            "text/plain": [
              "     antecedents consequents  ...  leverage  conviction\n",
              "1         (AB_0)       (Z_0)  ...  0.153420   19.410417\n",
              "5         (CD_3)       (Z_0)  ...  0.126042         inf\n",
              "6   (AB_0, CD_2)       (Z_0)  ...  0.031580    4.789583\n",
              "9   (AB_0, CD_3)       (Z_0)  ...  0.119740         inf\n",
              "20  (CD_0, AB_2)       (Z_0)  ...  0.073628    6.890278\n",
              "\n",
              "[5 rows x 9 columns]"
            ]
          },
          "metadata": {},
          "execution_count": 144
        }
      ]
    },
    {
      "cell_type": "markdown",
      "metadata": {
        "id": "nmD2HyVv08zE"
      },
      "source": [
        "3) (Extra Credit) Find the paths from your decision tree in the rules that you outputted above. You will have to adjust the logic of your decision tree paths to fit the rules. The decision tree looked for the absence of categories and the rules look for the presence of categories.\n",
        "\n",
        "For example, the path ~AB_1 & CD_3 & ~AB_2 -> Z_0 is the same as AB_0 & CD_3 -> Z_0 because if a data point isn't in AB_1 or AB_2 then it must be in AB_0. Similarly ~AB_1 & AB_0 -> Z_0 is the same as AB_0 -> Z_0 because if you are in AB_0 then we already know you can't be in the other AB clusters.\n",
        "\n",
        "Conversions like this can help you adapt the paths to rules that don't have logical nots. It is possible that you can't convert a path to a rule, but you should be able to convert most of the them.\n",
        "\n",
        "For each of your paths from your decision tree list the corresponding rule from you association rules mining. If you can't find a corresponding rule then list that.\n",
        "\n",
        "Note that extra credit can't raise your grade above 100% for this assignment."
      ]
    },
    {
      "cell_type": "code",
      "metadata": {
        "colab": {
          "base_uri": "https://localhost:8080/",
          "height": 703
        },
        "id": "0McN2gFoVxU9",
        "outputId": "b22b176e-efb7-47b4-d340-91d1ec990a52"
      },
      "source": [
        "plt.figure(figsize=(20,12))\n",
        "plot_tree(dt_model, feature_names=clustered_df.columns[:-1], class_names=['0','1'])\n",
        "plt.show()"
      ],
      "execution_count": null,
      "outputs": [
        {
          "output_type": "display_data",
          "data": {
            "image/png": "[encoded data removed]",
            "text/plain": [
              "<Figure size 1440x864 with 1 Axes>"
            ]
          },
          "metadata": {
            "needs_background": "light"
          }
        }
      ]
    },
    {
      "cell_type": "markdown",
      "metadata": {
        "id": "HlMBYCKCYxFk"
      },
      "source": [
        "~AB_1 & CD_2 -> Z_0\n",
        "\n",
        "AB_1 & ~CD_1 -> Z_0\n",
        "\n",
        "AB_1 & CD_1 & AB_0 -> Z_1\n",
        "\n",
        "AB_1 & CD_1 & ~AB_0 & ~CD_3 -> Z_0\n",
        "\n",
        "AB_1 & CD_1 & ~AB_0 & CD_3 & AB_2 & CD_0 -> Z_1"
      ]
    }
  ]
}