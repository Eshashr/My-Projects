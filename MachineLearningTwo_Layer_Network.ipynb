{
  "nbformat": 4,
  "nbformat_minor": 0,
  "metadata": {
    "colab": {
      "provenance": [],
      "collapsed_sections": [],
      "include_colab_link": true
    },
    "kernelspec": {
      "name": "python3",
      "display_name": "Python 3"
    },
    "language_info": {
      "name": "python"
    }
  },
  "cells": [
    {
      "cell_type": "markdown",
      "metadata": {
        "id": "view-in-github",
        "colab_type": "text"
      },
      "source": [
        "<a href=\"https://colab.research.google.com/github/Eshashr/My-Projects/blob/main/MachineLearningTwo_Layer_Network.ipynb\" target=\"_parent\"><img src=\"https://colab.research.google.com/assets/colab-badge.svg\" alt=\"Open In Colab\"/></a>"
      ]
    },
    {
      "cell_type": "markdown",
      "metadata": {
        "id": "XHPL3z94mgvU"
      },
      "source": [
        "## Two Layer Network\n",
        "In this assignment you will use the following code to investigate how the first layer of a network transforms the input and, ideally, renders it linearly separable for the output layer.\n",
        "\n",
        "1) Create two binary 2-dimensional non-linearly separable datasets (you can use one you created for the last assignment).\n",
        "\n",
        "2) Copy this notebook twice. Adapt each copy to use one of your datasets, i.e. change the file that is read in.\n",
        "\n",
        "3) Document how effectively (in terms of accuracy) does the network learn the dataset. Try training the network multiple times to see if anything different happens.\n",
        "\n",
        "4) Document whether the two neurons on the first layer are doing different things or basically the same thing. Does what they are doing seem sensible? Could you think of better way to use the two neurons?\n",
        "\n",
        "5) The final plot in this notebook shows the activations on the first layer, this is the transformed input. What shape do you see? Does it look more linearly separable? Does the line of the output layer neuron look like its in a reasonable place?\n"
      ]
    },
    {
      "cell_type": "code",
      "metadata": {
        "colab": {
          "base_uri": "https://localhost:8080/"
        },
        "id": "mi1mNISS9jJi",
        "outputId": "245a04f1-981d-40f4-9336-3733bdcbe321"
      },
      "source": [
        "from google.colab import drive\n",
        "drive.mount('/content/drive')"
      ],
      "execution_count": null,
      "outputs": [
        {
          "output_type": "stream",
          "name": "stdout",
          "text": [
            "Drive already mounted at /content/drive; to attempt to forcibly remount, call drive.mount(\"/content/drive\", force_remount=True).\n"
          ]
        }
      ]
    },
    {
      "cell_type": "code",
      "metadata": {
        "id": "P63PECKOgNvU"
      },
      "source": [
        "import numpy as np\n",
        "import pandas as pd\n",
        "import matplotlib.pyplot as plt\n",
        "from tensorflow import keras"
      ],
      "execution_count": null,
      "outputs": []
    },
    {
      "cell_type": "code",
      "metadata": {
        "id": "P0IvS7NQgNvc",
        "colab": {
          "base_uri": "https://localhost:8080/",
          "height": 542
        },
        "outputId": "caf81cd1-4204-4400-e208-e8b22f92fb18"
      },
      "source": [
        "bin_df = pd.read_csv('/content/drive/MyDrive/My Datasets/Dataset1.csv')\n",
        "features = bin_df[['A', 'B']]\n",
        "scaled = (features-features.min(axis=0))/(features.max(axis=0) - features.min(axis=0))\n",
        "bin_df[['A', 'B']] = scaled\n",
        "bin_df"
      ],
      "execution_count": null,
      "outputs": [
        {
          "output_type": "execute_result",
          "data": {
            "text/html": [
              "<div>\n",
              "<style scoped>\n",
              "    .dataframe tbody tr th:only-of-type {\n",
              "        vertical-align: middle;\n",
              "    }\n",
              "\n",
              "    .dataframe tbody tr th {\n",
              "        vertical-align: top;\n",
              "    }\n",
              "\n",
              "    .dataframe thead th {\n",
              "        text-align: right;\n",
              "    }\n",
              "</style>\n",
              "<table border=\"1\" class=\"dataframe\">\n",
              "  <thead>\n",
              "    <tr style=\"text-align: right;\">\n",
              "      <th></th>\n",
              "      <th>A</th>\n",
              "      <th>B</th>\n",
              "      <th>Target</th>\n",
              "    </tr>\n",
              "  </thead>\n",
              "  <tbody>\n",
              "    <tr>\n",
              "      <th>0</th>\n",
              "      <td>1.00</td>\n",
              "      <td>1.00</td>\n",
              "      <td>0</td>\n",
              "    </tr>\n",
              "    <tr>\n",
              "      <th>1</th>\n",
              "      <td>1.00</td>\n",
              "      <td>0.75</td>\n",
              "      <td>1</td>\n",
              "    </tr>\n",
              "    <tr>\n",
              "      <th>2</th>\n",
              "      <td>1.00</td>\n",
              "      <td>0.25</td>\n",
              "      <td>0</td>\n",
              "    </tr>\n",
              "    <tr>\n",
              "      <th>3</th>\n",
              "      <td>1.00</td>\n",
              "      <td>0.00</td>\n",
              "      <td>1</td>\n",
              "    </tr>\n",
              "    <tr>\n",
              "      <th>4</th>\n",
              "      <td>0.75</td>\n",
              "      <td>1.00</td>\n",
              "      <td>1</td>\n",
              "    </tr>\n",
              "    <tr>\n",
              "      <th>5</th>\n",
              "      <td>0.75</td>\n",
              "      <td>0.75</td>\n",
              "      <td>0</td>\n",
              "    </tr>\n",
              "    <tr>\n",
              "      <th>6</th>\n",
              "      <td>0.75</td>\n",
              "      <td>0.25</td>\n",
              "      <td>1</td>\n",
              "    </tr>\n",
              "    <tr>\n",
              "      <th>7</th>\n",
              "      <td>0.75</td>\n",
              "      <td>0.00</td>\n",
              "      <td>0</td>\n",
              "    </tr>\n",
              "    <tr>\n",
              "      <th>8</th>\n",
              "      <td>0.25</td>\n",
              "      <td>1.00</td>\n",
              "      <td>0</td>\n",
              "    </tr>\n",
              "    <tr>\n",
              "      <th>9</th>\n",
              "      <td>0.25</td>\n",
              "      <td>0.75</td>\n",
              "      <td>1</td>\n",
              "    </tr>\n",
              "    <tr>\n",
              "      <th>10</th>\n",
              "      <td>0.25</td>\n",
              "      <td>0.25</td>\n",
              "      <td>0</td>\n",
              "    </tr>\n",
              "    <tr>\n",
              "      <th>11</th>\n",
              "      <td>0.25</td>\n",
              "      <td>0.00</td>\n",
              "      <td>1</td>\n",
              "    </tr>\n",
              "    <tr>\n",
              "      <th>12</th>\n",
              "      <td>0.00</td>\n",
              "      <td>1.00</td>\n",
              "      <td>1</td>\n",
              "    </tr>\n",
              "    <tr>\n",
              "      <th>13</th>\n",
              "      <td>0.00</td>\n",
              "      <td>0.75</td>\n",
              "      <td>0</td>\n",
              "    </tr>\n",
              "    <tr>\n",
              "      <th>14</th>\n",
              "      <td>0.00</td>\n",
              "      <td>0.25</td>\n",
              "      <td>1</td>\n",
              "    </tr>\n",
              "    <tr>\n",
              "      <th>15</th>\n",
              "      <td>0.00</td>\n",
              "      <td>0.00</td>\n",
              "      <td>0</td>\n",
              "    </tr>\n",
              "  </tbody>\n",
              "</table>\n",
              "</div>"
            ],
            "text/plain": [
              "       A     B  Target\n",
              "0   1.00  1.00       0\n",
              "1   1.00  0.75       1\n",
              "2   1.00  0.25       0\n",
              "3   1.00  0.00       1\n",
              "4   0.75  1.00       1\n",
              "5   0.75  0.75       0\n",
              "6   0.75  0.25       1\n",
              "7   0.75  0.00       0\n",
              "8   0.25  1.00       0\n",
              "9   0.25  0.75       1\n",
              "10  0.25  0.25       0\n",
              "11  0.25  0.00       1\n",
              "12  0.00  1.00       1\n",
              "13  0.00  0.75       0\n",
              "14  0.00  0.25       1\n",
              "15  0.00  0.00       0"
            ]
          },
          "metadata": {},
          "execution_count": 35
        }
      ]
    },
    {
      "cell_type": "code",
      "metadata": {
        "id": "G3M1xBHXb60q",
        "colab": {
          "base_uri": "https://localhost:8080/",
          "height": 374
        },
        "outputId": "492e2896-a20a-405c-d4a4-b5a272fad1c2"
      },
      "source": [
        "positive = bin_df[bin_df['Target']==1]\n",
        "negative = bin_df[bin_df['Target']==0]\n",
        "\n",
        "plt.figure(figsize=(6,6))\n",
        "plt.scatter(positive['A'], positive['B'], color='green')\n",
        "plt.scatter(negative['A'], negative['B'], color='red')\n",
        "plt.xlim(-0.25, 1.25)\n",
        "plt.ylim(-0.25, 1.25)\n",
        "plt.show()"
      ],
      "execution_count": null,
      "outputs": [
        {
          "output_type": "display_data",
          "data": {
            "image/png": "[encoded data removed]",
            "text/plain": [
              "<Figure size 432x432 with 1 Axes>"
            ]
          },
          "metadata": {
            "needs_background": "light"
          }
        }
      ]
    },
    {
      "cell_type": "code",
      "metadata": {
        "id": "z2tP_LQqgNvd"
      },
      "source": [
        "inputs = bin_df[['A','B']].values\n",
        "targets = bin_df['Target'].values"
      ],
      "execution_count": null,
      "outputs": []
    },
    {
      "cell_type": "code",
      "metadata": {
        "id": "ysY9JX1dgNvf",
        "colab": {
          "base_uri": "https://localhost:8080/"
        },
        "outputId": "edf2781b-006a-48c8-c857-a87df7c37a9d"
      },
      "source": [
        "callback = keras.callbacks.EarlyStopping(monitor='loss', patience=3)\n",
        "nn = keras.Sequential()\n",
        "nn.add(keras.layers.Dense(2, input_shape=(2,), activation='sigmoid'))\n",
        "nn.add(keras.layers.Dense(1, activation='sigmoid'))\n",
        "nn.compile(optimizer=keras.optimizers.RMSprop(0.2),\n",
        "           loss=keras.losses.BinaryCrossentropy(),\n",
        "           metrics=[keras.metrics.BinaryAccuracy()])\n",
        "nn.fit(inputs, targets, epochs=50, callbacks=[callback])"
      ],
      "execution_count": null,
      "outputs": [
        {
          "output_type": "stream",
          "name": "stdout",
          "text": [
            "Epoch 1/50\n",
            "1/1 [==============================] - 0s 453ms/step - loss: 0.7118 - binary_accuracy: 0.5000\n",
            "Epoch 2/50\n",
            "1/1 [==============================] - 0s 7ms/step - loss: 0.9147 - binary_accuracy: 0.5000\n",
            "Epoch 3/50\n",
            "1/1 [==============================] - 0s 4ms/step - loss: 0.6999 - binary_accuracy: 0.5625\n",
            "Epoch 4/50\n",
            "1/1 [==============================] - 0s 5ms/step - loss: 0.6959 - binary_accuracy: 0.5625\n",
            "Epoch 5/50\n",
            "1/1 [==============================] - 0s 4ms/step - loss: 0.6945 - binary_accuracy: 0.6250\n",
            "Epoch 6/50\n",
            "1/1 [==============================] - 0s 8ms/step - loss: 0.6941 - binary_accuracy: 0.4375\n",
            "Epoch 7/50\n",
            "1/1 [==============================] - 0s 4ms/step - loss: 0.6939 - binary_accuracy: 0.5000\n",
            "Epoch 8/50\n",
            "1/1 [==============================] - 0s 9ms/step - loss: 0.6937 - binary_accuracy: 0.3750\n",
            "Epoch 9/50\n",
            "1/1 [==============================] - 0s 4ms/step - loss: 0.6936 - binary_accuracy: 0.5000\n",
            "Epoch 10/50\n",
            "1/1 [==============================] - 0s 8ms/step - loss: 0.6935 - binary_accuracy: 0.4375\n",
            "Epoch 11/50\n",
            "1/1 [==============================] - 0s 4ms/step - loss: 0.6934 - binary_accuracy: 0.5000\n",
            "Epoch 12/50\n",
            "1/1 [==============================] - 0s 6ms/step - loss: 0.6933 - binary_accuracy: 0.5000\n",
            "Epoch 13/50\n",
            "1/1 [==============================] - 0s 8ms/step - loss: 0.6932 - binary_accuracy: 0.5000\n",
            "Epoch 14/50\n",
            "1/1 [==============================] - 0s 4ms/step - loss: 0.6932 - binary_accuracy: 0.5000\n",
            "Epoch 15/50\n",
            "1/1 [==============================] - 0s 6ms/step - loss: 0.6932 - binary_accuracy: 0.5000\n",
            "Epoch 16/50\n",
            "1/1 [==============================] - 0s 7ms/step - loss: 0.6931 - binary_accuracy: 0.5625\n",
            "Epoch 17/50\n",
            "1/1 [==============================] - 0s 5ms/step - loss: 0.6931 - binary_accuracy: 0.5000\n",
            "Epoch 18/50\n",
            "1/1 [==============================] - 0s 6ms/step - loss: 0.6931 - binary_accuracy: 0.5000\n",
            "Epoch 19/50\n",
            "1/1 [==============================] - 0s 5ms/step - loss: 0.6932 - binary_accuracy: 0.5000\n",
            "Epoch 20/50\n",
            "1/1 [==============================] - 0s 7ms/step - loss: 0.6936 - binary_accuracy: 0.5000\n"
          ]
        },
        {
          "output_type": "execute_result",
          "data": {
            "text/plain": [
              "<keras.callbacks.History at 0x7fd08a147750>"
            ]
          },
          "metadata": {},
          "execution_count": 48
        }
      ]
    },
    {
      "cell_type": "markdown",
      "metadata": {
        "id": "Fdep5pj9Eaij"
      },
      "source": [
        "3. In terms of accuracy the network learns the data set in 17 out of 50 epochs.I tried training the network multiple times and saw that each time the number of epochs change and so does that binary accuracy."
      ]
    },
    {
      "cell_type": "code",
      "metadata": {
        "id": "c5aSJ7PjgNvf",
        "colab": {
          "base_uri": "https://localhost:8080/"
        },
        "outputId": "b91973f9-42cb-49dd-a0d2-681c3497c073"
      },
      "source": [
        "input_layer_weights = nn.layers[0].get_weights()\n",
        "input_layer_weights"
      ],
      "execution_count": null,
      "outputs": [
        {
          "output_type": "execute_result",
          "data": {
            "text/plain": [
              "[array([[-0.9077345, -2.2018101],\n",
              "        [-1.1063855, -2.0121388]], dtype=float32),\n",
              " array([-1.6102877, -1.2360804], dtype=float32)]"
            ]
          },
          "metadata": {},
          "execution_count": 39
        }
      ]
    },
    {
      "cell_type": "code",
      "metadata": {
        "id": "rMOjWmNRgNvh"
      },
      "source": [
        "w0_0 = input_layer_weights[0][:,0]\n",
        "w0_1 = input_layer_weights[0][:,1]\n",
        "w0_0b = input_layer_weights[1][0]\n",
        "w0_1b = input_layer_weights[1][1]"
      ],
      "execution_count": null,
      "outputs": []
    },
    {
      "cell_type": "code",
      "metadata": {
        "id": "GcysJI-BgNvj",
        "colab": {
          "base_uri": "https://localhost:8080/"
        },
        "outputId": "14dc9c26-5070-438f-fdf3-6a4bdf08d5c5"
      },
      "source": [
        "output_layer_weights = nn.layers[1].get_weights()\n",
        "output_layer_weights"
      ],
      "execution_count": null,
      "outputs": [
        {
          "output_type": "execute_result",
          "data": {
            "text/plain": [
              "[array([[ 0.24211451],\n",
              "        [-0.19673797]], dtype=float32), array([0.29737234], dtype=float32)]"
            ]
          },
          "metadata": {},
          "execution_count": 41
        }
      ]
    },
    {
      "cell_type": "code",
      "metadata": {
        "id": "qez7XjC2gNvk"
      },
      "source": [
        "w1_0 = output_layer_weights[0][:,0]\n",
        "w1_0b = output_layer_weights[1][0]"
      ],
      "execution_count": null,
      "outputs": []
    },
    {
      "cell_type": "code",
      "metadata": {
        "id": "LYO9g9ELgNvk",
        "colab": {
          "base_uri": "https://localhost:8080/",
          "height": 203
        },
        "outputId": "020d3c60-d0e7-4f7f-bcad-ee1673633dc6"
      },
      "source": [
        "nn_zero = keras.Model(inputs=nn.input, outputs=nn.layers[0].output)\n",
        "input_layer_activations = pd.DataFrame(nn_zero.predict(inputs))\n",
        "input_layer_activations.columns = ['A', 'B']\n",
        "input_layer_activations['Target'] = bin_df['Target']\n",
        "input_layer_activations.head()"
      ],
      "execution_count": null,
      "outputs": [
        {
          "output_type": "execute_result",
          "data": {
            "text/html": [
              "<div>\n",
              "<style scoped>\n",
              "    .dataframe tbody tr th:only-of-type {\n",
              "        vertical-align: middle;\n",
              "    }\n",
              "\n",
              "    .dataframe tbody tr th {\n",
              "        vertical-align: top;\n",
              "    }\n",
              "\n",
              "    .dataframe thead th {\n",
              "        text-align: right;\n",
              "    }\n",
              "</style>\n",
              "<table border=\"1\" class=\"dataframe\">\n",
              "  <thead>\n",
              "    <tr style=\"text-align: right;\">\n",
              "      <th></th>\n",
              "      <th>A</th>\n",
              "      <th>B</th>\n",
              "      <th>Target</th>\n",
              "    </tr>\n",
              "  </thead>\n",
              "  <tbody>\n",
              "    <tr>\n",
              "      <th>0</th>\n",
              "      <td>0.025972</td>\n",
              "      <td>0.004278</td>\n",
              "      <td>0</td>\n",
              "    </tr>\n",
              "    <tr>\n",
              "      <th>1</th>\n",
              "      <td>0.033967</td>\n",
              "      <td>0.007055</td>\n",
              "      <td>1</td>\n",
              "    </tr>\n",
              "    <tr>\n",
              "      <th>2</th>\n",
              "      <td>0.057616</td>\n",
              "      <td>0.019060</td>\n",
              "      <td>0</td>\n",
              "    </tr>\n",
              "    <tr>\n",
              "      <th>3</th>\n",
              "      <td>0.074604</td>\n",
              "      <td>0.031132</td>\n",
              "      <td>1</td>\n",
              "    </tr>\n",
              "    <tr>\n",
              "      <th>4</th>\n",
              "      <td>0.032375</td>\n",
              "      <td>0.007395</td>\n",
              "      <td>1</td>\n",
              "    </tr>\n",
              "  </tbody>\n",
              "</table>\n",
              "</div>"
            ],
            "text/plain": [
              "          A         B  Target\n",
              "0  0.025972  0.004278       0\n",
              "1  0.033967  0.007055       1\n",
              "2  0.057616  0.019060       0\n",
              "3  0.074604  0.031132       1\n",
              "4  0.032375  0.007395       1"
            ]
          },
          "metadata": {},
          "execution_count": 43
        }
      ]
    },
    {
      "cell_type": "code",
      "metadata": {
        "id": "nIQ_ZKU7gNvn",
        "colab": {
          "base_uri": "https://localhost:8080/",
          "height": 203
        },
        "outputId": "127adf5e-37d8-4678-b470-ffe6ca3d54c7"
      },
      "source": [
        "nn_one = keras.Model(inputs=nn.input, outputs=nn.layers[1].output)\n",
        "output_layer_activations = pd.DataFrame(nn_one.predict(inputs))\n",
        "output_layer_activations.columns = ['Output']\n",
        "output_layer_activations['Target'] = bin_df['Target']\n",
        "output_layer_activations.head()"
      ],
      "execution_count": null,
      "outputs": [
        {
          "output_type": "execute_result",
          "data": {
            "text/html": [
              "<div>\n",
              "<style scoped>\n",
              "    .dataframe tbody tr th:only-of-type {\n",
              "        vertical-align: middle;\n",
              "    }\n",
              "\n",
              "    .dataframe tbody tr th {\n",
              "        vertical-align: top;\n",
              "    }\n",
              "\n",
              "    .dataframe thead th {\n",
              "        text-align: right;\n",
              "    }\n",
              "</style>\n",
              "<table border=\"1\" class=\"dataframe\">\n",
              "  <thead>\n",
              "    <tr style=\"text-align: right;\">\n",
              "      <th></th>\n",
              "      <th>Output</th>\n",
              "      <th>Target</th>\n",
              "    </tr>\n",
              "  </thead>\n",
              "  <tbody>\n",
              "    <tr>\n",
              "      <th>0</th>\n",
              "      <td>0.575131</td>\n",
              "      <td>0</td>\n",
              "    </tr>\n",
              "    <tr>\n",
              "      <th>1</th>\n",
              "      <td>0.575471</td>\n",
              "      <td>1</td>\n",
              "    </tr>\n",
              "    <tr>\n",
              "      <th>2</th>\n",
              "      <td>0.576293</td>\n",
              "      <td>0</td>\n",
              "    </tr>\n",
              "    <tr>\n",
              "      <th>3</th>\n",
              "      <td>0.576717</td>\n",
              "      <td>1</td>\n",
              "    </tr>\n",
              "    <tr>\n",
              "      <th>4</th>\n",
              "      <td>0.575360</td>\n",
              "      <td>1</td>\n",
              "    </tr>\n",
              "  </tbody>\n",
              "</table>\n",
              "</div>"
            ],
            "text/plain": [
              "     Output  Target\n",
              "0  0.575131       0\n",
              "1  0.575471       1\n",
              "2  0.576293       0\n",
              "3  0.576717       1\n",
              "4  0.575360       1"
            ]
          },
          "metadata": {},
          "execution_count": 44
        }
      ]
    },
    {
      "cell_type": "code",
      "metadata": {
        "id": "0SYgM5NAgNvn",
        "colab": {
          "base_uri": "https://localhost:8080/",
          "height": 408
        },
        "outputId": "e253c36b-2088-4457-9472-c9c6adef2d7b"
      },
      "source": [
        "# Let's separate the inputs that result in positive output from the negatives\n",
        "df = bin_df\n",
        "positive = df[df['Target']==1]\n",
        "negative = df[df['Target']==0]\n",
        "\n",
        "# Set the weights\n",
        "weights = w0_0\n",
        "bias_weight = w0_0b\n",
        "\n",
        "# w0*x + w1*y + w2 = 0\n",
        "# y = -(w0/w1)*x - (w2/w1)\n",
        "slope = -weights[0]/weights[1]\n",
        "intercept = -bias_weight/weights[1]\n",
        "\n",
        "print('Slope:', slope)\n",
        "print('Intercept:', intercept)\n",
        "\n",
        "# Pull out the input weights and normalize for the weight arrow to be length 0.5\n",
        "weights_norm = weights/(np.sqrt(weights.dot(weights))*2)\n",
        "\n",
        "x_vals = np.linspace(-10, 10, 2)\n",
        "y_vals = x_vals*slope + intercept\n",
        "\n",
        "plt.figure(figsize=(6,6))\n",
        "plt.scatter(positive['A'], positive['B'], color='green')\n",
        "plt.scatter(negative['A'], negative['B'], color='red')\n",
        "plt.plot(x_vals, y_vals)\n",
        "plt.arrow(0.5, 0.5, weights_norm[0], weights_norm[1], head_width=0.05)\n",
        "plt.xlim(-0.25, 1.25)\n",
        "plt.ylim(-0.25, 1.25)\n",
        "plt.show()"
      ],
      "execution_count": null,
      "outputs": [
        {
          "output_type": "stream",
          "name": "stdout",
          "text": [
            "Slope: -0.8204505\n",
            "Intercept: -1.455449\n"
          ]
        },
        {
          "output_type": "display_data",
          "data": {
            "image/png": "[encoded data removed]",
            "text/plain": [
              "<Figure size 432x432 with 1 Axes>"
            ]
          },
          "metadata": {
            "needs_background": "light"
          }
        }
      ]
    },
    {
      "cell_type": "code",
      "metadata": {
        "id": "T2MNw5osgNvn",
        "colab": {
          "base_uri": "https://localhost:8080/",
          "height": 408
        },
        "outputId": "7766a579-aae1-4c49-8881-ab13bd4bd442"
      },
      "source": [
        "# Let's separate the inputs that result in positive output from the negatives\n",
        "df = bin_df\n",
        "positive = df[df['Target']==1]\n",
        "negative = df[df['Target']==0]\n",
        "\n",
        "# Set the weights\n",
        "weights = w0_1\n",
        "bias_weight = w0_1b\n",
        "\n",
        "# w0*x + w1*y + w2 = 0\n",
        "# y = -(w0/w1)*x - (w2/w1)\n",
        "slope = -weights[0]/weights[1]\n",
        "intercept = -bias_weight/weights[1]\n",
        "\n",
        "print('Slope:', slope)\n",
        "print('Intercept:', intercept)\n",
        "\n",
        "# Pull out the input weights and normalize for the weight arrow to be length 0.5\n",
        "weights_norm = weights/(np.sqrt(weights.dot(weights))*2)\n",
        "\n",
        "x_vals = np.linspace(-10, 10, 2)\n",
        "y_vals = x_vals*slope + intercept\n",
        "\n",
        "plt.figure(figsize=(6,6))\n",
        "plt.scatter(positive['A'], positive['B'], color='green')\n",
        "plt.scatter(negative['A'], negative['B'], color='red')\n",
        "plt.plot(x_vals, y_vals)\n",
        "plt.arrow(0.5, 0.5, weights_norm[0], weights_norm[1], head_width=0.05)\n",
        "plt.xlim(-0.25, 1.25)\n",
        "plt.ylim(-0.25, 1.25)\n",
        "plt.show()"
      ],
      "execution_count": null,
      "outputs": [
        {
          "output_type": "stream",
          "name": "stdout",
          "text": [
            "Slope: -1.0942636\n",
            "Intercept: -0.6143117\n"
          ]
        },
        {
          "output_type": "display_data",
          "data": {
            "image/png": "[encoded data removed]",
            "text/plain": [
              "<Figure size 432x432 with 1 Axes>"
            ]
          },
          "metadata": {
            "needs_background": "light"
          }
        }
      ]
    },
    {
      "cell_type": "code",
      "metadata": {
        "id": "Z9lR-Qo8gNvo",
        "colab": {
          "base_uri": "https://localhost:8080/",
          "height": 408
        },
        "outputId": "122e9656-b20d-4c38-dcaa-1aa5dfe6c9e3"
      },
      "source": [
        "# Let's separate the inputs that result in positive output from the negatives\n",
        "df = input_layer_activations\n",
        "positive = df[df['Target']==1]\n",
        "negative = df[df['Target']==0]\n",
        "\n",
        "# Set the weights\n",
        "weights = w1_0\n",
        "bias_weight = w1_0b\n",
        "\n",
        "# w0*x + w1*y + w2 = 0\n",
        "# y = -(w0/w1)*x - (w2/w1)\n",
        "slope = -weights[0]/weights[1]\n",
        "intercept = -bias_weight/weights[1]\n",
        "\n",
        "print('Slope:', slope)\n",
        "print('Intercept:', intercept)\n",
        "\n",
        "# Pull out the input weights and normalize for the weight arrow to be length 0.5\n",
        "weights_norm = weights/(np.sqrt(weights.dot(weights))*2)\n",
        "\n",
        "x_vals = np.linspace(-10, 10, 2)\n",
        "y_vals = x_vals*slope + intercept\n",
        "\n",
        "plt.figure(figsize=(6,6))\n",
        "plt.scatter(positive['A'], positive['B'], color='green')\n",
        "plt.scatter(negative['A'], negative['B'], color='red')\n",
        "plt.plot(x_vals, y_vals)\n",
        "plt.arrow(0.5, 0.5, weights_norm[0], weights_norm[1], head_width=0.05)\n",
        "plt.xlim(-0.25, 1.25)\n",
        "plt.ylim(-0.25, 1.25)\n",
        "plt.show()"
      ],
      "execution_count": null,
      "outputs": [
        {
          "output_type": "stream",
          "name": "stdout",
          "text": [
            "Slope: 1.2306446\n",
            "Intercept: 1.5115147\n"
          ]
        },
        {
          "output_type": "display_data",
          "data": {
            "image/png": "[encoded data removed]",
            "text/plain": [
              "<Figure size 432x432 with 1 Axes>"
            ]
          },
          "metadata": {
            "needs_background": "light"
          }
        }
      ]
    },
    {
      "cell_type": "markdown",
      "metadata": {
        "id": "7R1Mx8eEV4xD"
      },
      "source": []
    },
    {
      "cell_type": "markdown",
      "metadata": {
        "id": "p7P7sx92V5ML"
      },
      "source": [
        "3. In terms of accuracy the network learns the data set in 17 out of 50 epochs.I tried training the network multiple times and saw that each time the number of epochs change and so does that binary accuracy.\n",
        "\n",
        "4. The two nurons in my graphs are doing the same thing they are pointed towards the same direction. Yes it seems like its sensible. We can use sigmoid activatipn for better way to use the neurons.\n",
        "\n",
        "5. In the final graph, we can see that two red and one green is away from the clusters of the remaining dots. They are not linrearly separable and the output layer neuron doesnt look like its in a reasonable place. "
      ]
    }
  ]
}